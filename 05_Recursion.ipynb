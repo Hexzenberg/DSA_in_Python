{
 "cells": [
  {
   "cell_type": "markdown",
   "id": "bba53029-1a88-4f9a-b30e-9a14585222a6",
   "metadata": {},
   "source": [
    "# Recursion"
   ]
  },
  {
   "cell_type": "markdown",
   "id": "3615a10e-a809-4c86-9b7c-31d6335c99d1",
   "metadata": {},
   "source": [
    "##### - This is the fifth notebook of the Python DSA repository and will cover recursions.\n",
    "##### Recursion is required for sorting algorithms and even for the complex data structures like graphs (though not an absolute requirement).\n",
    "##### Since you know the basics you probably have an idea about recursions, how they involve functions and them calling themselves (or some other function) repeatedly.\n",
    "##### What basically happens in recursion is that a function has two parts; a stopping condition and a recursive call condition.\n",
    "##### A stopping condition basically tells the function to return the result that it has been calculating since the first call inside the memory stack.\n",
    "##### Recursive call refers to the code that makes the function call another function or itself recursively."
   ]
  },
  {
   "cell_type": "markdown",
   "id": "87db2cb9-707d-4491-98d6-b38ba9bff994",
   "metadata": {},
   "source": [
    "> def func(a):\n",
    ">> if a == 0:\n",
    ">>> return some result # Stopping condition (since it returns a concrete value)\n",
    ">> \n",
    ">> return func(a -1) # Calls the _func_ function repeatedly (recursive call) "
   ]
  },
  {
   "cell_type": "markdown",
   "id": "586f0018-9c97-427b-8ef6-8a0309ad38f4",
   "metadata": {},
   "source": [
    "##### Some of the simplest recursion problems are factorial and fibonacci (will cover this in detail).\n",
    "###### Factorial:"
   ]
  },
  {
   "cell_type": "code",
   "execution_count": 1,
   "id": "b23bc850-dfb2-4934-a9c8-2897227108c9",
   "metadata": {},
   "outputs": [],
   "source": [
    "def fact(number):\n",
    "    if number == 0 or number == 1: # Stopping condition\n",
    "        return 1\n",
    "\n",
    "    return number * fact(number - 1) # Recursive call"
   ]
  },
  {
   "cell_type": "code",
   "execution_count": 2,
   "id": "542e6b07-aa1b-49e0-8736-f872a9080360",
   "metadata": {},
   "outputs": [
    {
     "name": "stdout",
     "output_type": "stream",
     "text": [
      "The factorial of 5 is 120.\n"
     ]
    }
   ],
   "source": [
    "print(f'The factorial of 5 is {fact(5)}.')"
   ]
  },
  {
   "cell_type": "markdown",
   "id": "128422c8-36f2-471a-9bbb-23117e580345",
   "metadata": {},
   "source": [
    "###### Fibonacci:"
   ]
  },
  {
   "cell_type": "code",
   "execution_count": 3,
   "id": "d2470065-c6c5-4831-8ce9-f7f1e92f320a",
   "metadata": {},
   "outputs": [],
   "source": [
    "def fib(number):\n",
    "    if number == 0: # Stopping condition\n",
    "        return 0\n",
    "        \n",
    "    if number == 1: # Stopping condition\n",
    "        return 1\n",
    "        \n",
    "    return fib(number - 1) + fib(number - 2) # Recursive call"
   ]
  },
  {
   "cell_type": "code",
   "execution_count": 4,
   "id": "5724f278-0af6-4e6c-bebb-58ed5792ef3d",
   "metadata": {},
   "outputs": [
    {
     "name": "stdout",
     "output_type": "stream",
     "text": [
      "The 5th fibonacci number is 5.\n"
     ]
    }
   ],
   "source": [
    "print(f'The 5th fibonacci number is {fib(5)}.')"
   ]
  },
  {
   "cell_type": "markdown",
   "id": "793aa13a-ff8c-447a-a235-a4af56ae0b87",
   "metadata": {},
   "source": [
    "##### Well now that the skimmers are gone; the factorial function in every recursion tutorial is painfully boring and common, I will move on to some real tips and tricks you may use for recursion.\n",
    "##### First off what you need to know is that if you don't get what is memory stack and all that mumbo-jumbo imagine this:"
   ]
  },
  {
   "cell_type": "markdown",
   "id": "3f927cb7-125e-49c5-9dc7-9906acd548d0",
   "metadata": {},
   "source": [
    "> - You have 6 brothers.\n",
    "> - You have to do some task that magically requires 6 steps and each of the brothers can do one step of those 6.\n",
    "> - What recursion basically is that you do your part and then tell your brothers to do the rest of the work."
   ]
  },
  {
   "cell_type": "markdown",
   "id": "9180d5a8-bc1a-4970-9337-01b0fd27ecc8",
   "metadata": {},
   "source": [
    "##### For example in that fib(5) call imagine for a second that you were called at first.\n",
    "##### Now you aren't the stopping condition but you divided fib(5) into fib(4) and fib(3).\n",
    "##### Similarly the divisions will be further made to fib(2) and fib(3) for fib(4) and fib(2) and fib(1) for fib(3) respectively and so on.\n",
    "##### The stopping condition are your 5th and the 6th brothers who will execute fib(1) and fib(0) which will ultimately add up to the result of fib(5)."
   ]
  },
  {
   "cell_type": "markdown",
   "id": "2eeafede-0016-4e2c-bcf0-b6d84ed111fa",
   "metadata": {},
   "source": [
    "### Things to remember about Recursion:\n",
    "##### In recursion the size of the problem or the given input gets reduced with every decision we make as it gets divided as it goes along a function and encounters some condition (choices and decision that we made) to move ahead.\n",
    "##### Recursion has to be chosen to solve a problem if we have to use a decision space i.e. if we have to make some choices and decisions that can be represented as a recursive tree.\n",
    "##### If one has created the recurssive tree for a problem then coding the solution is cakewalk for them.\n",
    "##### Don't get it? Learn from an example:\n",
    "##### Take the subset problem in which given a string you have to print its every substring. "
   ]
  },
  {
   "cell_type": "markdown",
   "id": "74501a18-0875-45b7-91fc-9dbbd43c15a2",
   "metadata": {},
   "source": [
    "> For example take string s = \"ab\".\n",
    "> \n",
    "> So the subsets to be printed are \"\" (empty string), 'a', 'b', 'ab'."
   ]
  },
  {
   "cell_type": "markdown",
   "id": "0a8f4fcc-3fa8-4bc0-934d-3ead3e354bda",
   "metadata": {},
   "source": [
    "##### In the problem above the _choices_ present before us is that for making a substring the letter 'a' might **be** taken into account or might **not be**, we can say the same for the letter 'b'."
   ]
  },
  {
   "cell_type": "markdown",
   "id": "398b2eb7-1e87-4c8f-9886-b90af13dd7fb",
   "metadata": {},
   "source": [
    "##### We take _decisions_ from the above choices and decide whether to make the empty substring or 'a' substring and so on.\n",
    "##### The decisions are to be made after all the possible choices are recognised."
   ]
  },
  {
   "cell_type": "markdown",
   "id": "0661efaf-75c2-45f8-b38f-703bb86e0e5f",
   "metadata": {},
   "source": [
    "##### Finally:\n",
    "|Subset (SubString)| Choice to include 'a' | Choice to include 'b' |\n",
    "|  :-------------: | :-------------------: | :-------------------: |\n",
    "|  \" \"             |     0                 |   0                   |\n",
    "|  'b'             |     0                 |   1                   |\n",
    "|  'a'             |     1                 |   0                   |\n",
    "|  \"ab\"            |     1                 |   1                   |"
   ]
  },
  {
   "cell_type": "markdown",
   "id": "14156457-3659-4786-b929-aaa94f731f97",
   "metadata": {},
   "source": [
    "##### Here '1' means that the letter or character has been included and '0' means otherwise.\n",
    "##### Therefore a decision has been taken from the given choices i.e. to include character 'a' but to not include the character 'b' to get the sub string 'a'."
   ]
  },
  {
   "cell_type": "markdown",
   "id": "36f94f87-fe13-4824-82ee-cb634f1af6d8",
   "metadata": {},
   "source": [
    "##### Now you can clearly imagine how the input gets slashed whenever a decision is made and hence it is nothing but a byproduct of our decision making that acts as a addon perk for us.\n",
    "##### Overall there are two steps involved for recusion:"
   ]
  },
  {
   "cell_type": "markdown",
   "id": "f281d69f-31d1-4a15-8073-b1340a84bb14",
   "metadata": {},
   "source": [
    "> 1. Draw the recursive tree.\n",
    "> 2. Well, write the code."
   ]
  },
  {
   "cell_type": "markdown",
   "id": "9c857f89-9c01-4f67-8e58-3f6246112acc",
   "metadata": {},
   "source": [
    "##### Another good thing to know is that recusion often is the gateway to Dynamic Programming (DP), when you use memoization with recursion it is known as the top down approach.\n",
    "##### It will be covered in Dynamic Programming but here is a small implementation."
   ]
  },
  {
   "cell_type": "code",
   "execution_count": 5,
   "id": "13362803-c6b2-4c08-9235-d9727ff9afb6",
   "metadata": {},
   "outputs": [],
   "source": [
    "fact_memo = {} # Declaring a set to memorise (non-duplicate) factorials\n",
    "\n",
    "def fact(number):\n",
    "    if number < 2: # Stopping condition\n",
    "        return 1\n",
    "\n",
    "    if not number in fact_memo:\n",
    "        fact_memo[number] = number * fact(number - 1) # Recursive call\n",
    "\n",
    "    return fact_memo[number]"
   ]
  },
  {
   "cell_type": "code",
   "execution_count": 6,
   "id": "eefe2671-f062-43f7-b04e-9bbbcafd89c2",
   "metadata": {},
   "outputs": [
    {
     "name": "stdout",
     "output_type": "stream",
     "text": [
      "The factorial of 5 is 120.\n"
     ]
    }
   ],
   "source": [
    "print(f'The factorial of 5 is {fact(5)}.')"
   ]
  },
  {
   "cell_type": "markdown",
   "id": "fb7ddcc5-5c31-4efe-a8ee-ddf25e8851ab",
   "metadata": {},
   "source": [
    "##### The set here is used to store the unique factorial values hence whenever there is a recursive call the calculation for the factorial of a number that was already encountered is not repeated and rather taken from the remembered set.\n",
    "##### This improves time complexity, which may not be observable for some small input, but can be noticed for a large one, though this improvement comes at the cost of space complexity, but we have plenty of that but not much of the former (Uh, time)."
   ]
  }
 ],
 "metadata": {
  "kernelspec": {
   "display_name": "Python 3 (ipykernel)",
   "language": "python",
   "name": "python3"
  },
  "language_info": {
   "codemirror_mode": {
    "name": "ipython",
    "version": 3
   },
   "file_extension": ".py",
   "mimetype": "text/x-python",
   "name": "python",
   "nbconvert_exporter": "python",
   "pygments_lexer": "ipython3",
   "version": "3.10.9"
  }
 },
 "nbformat": 4,
 "nbformat_minor": 5
}
