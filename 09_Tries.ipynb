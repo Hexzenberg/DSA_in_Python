{
 "cells": [
  {
   "cell_type": "markdown",
   "id": "bf4aa1b2-92ca-48ac-8b72-fd7dd13fcfa2",
   "metadata": {},
   "source": [
    "##### This is the ninth notebook of the Python DSA repository.\n",
    "##### Tries are a special type of trees which is also known as a digital or prefix trees, it is a specialised search tree data structure used to store and retrieve strings from a dictionary or set. Unlike a binary search tree, nodes in a trie do not store their associated key. Instead, each node's position within the trie determines its associated key, with the connections between nodes defined by individual characters rather than the entire key.\n",
    "##### If the edges do not have any value linked to them then the node does not exist!\n",
    "###### Definition:"
   ]
  },
  {
   "cell_type": "code",
   "execution_count": 1,
   "id": "55be3974-9968-4188-9e6a-27d11cfb33c5",
   "metadata": {},
   "outputs": [],
   "source": [
    "class Node:\n",
    "    def __init__(self):\n",
    "        is_terminal = False\n",
    "        self.child = [None] * 26\n",
    "        self.val = val"
   ]
  },
  {
   "cell_type": "markdown",
   "id": "5cb1ddc3-4837-4db1-a7df-cffe4514e8a3",
   "metadata": {},
   "source": [
    "##### Searching:"
   ]
  },
  {
   "cell_type": "code",
   "execution_count": 2,
   "id": "e091db5e-3f7c-463e-bc4f-6e06cb8f59c1",
   "metadata": {},
   "outputs": [],
   "source": [
    "def search_trie(root, key):\n",
    "    for i in key.length:\n",
    "        if x.child[key[i]] == None: # The string character is not present in any of the child of the current node \n",
    "            return false\n",
    "        \n",
    "        x = x.child[key[i]]\n",
    "    \n",
    "    return x.val"
   ]
  },
  {
   "cell_type": "markdown",
   "id": "92cae118-a2a3-42eb-952e-f9675e07e601",
   "metadata": {},
   "source": [
    "##### Insertion:"
   ]
  },
  {
   "cell_type": "code",
   "execution_count": 3,
   "id": "5e7505ca-8726-4989-bd68-8663278a7af9",
   "metadata": {},
   "outputs": [],
   "source": [
    "def trie_insert(root, key, value):\n",
    "    for i in key.length:\n",
    "        if root.child[key[i]] == None:\n",
    "            root.child[key[i]] = Node()\n",
    "        \n",
    "        root = root.child[key[i]]\n",
    "    \n",
    "    root.val = value\n",
    "    root.is_terminal = True"
   ]
  },
  {
   "cell_type": "markdown",
   "id": "2f3a7199-7a4e-4c5a-b1d3-bc6863c15e61",
   "metadata": {},
   "source": [
    "##### Deletion:"
   ]
  },
  {
   "cell_type": "code",
   "execution_count": 4,
   "id": "0d2ff3b6-5765-42a0-ad4d-c74187c730e4",
   "metadata": {},
   "outputs": [],
   "source": [
    "def trie_delete(root, key):\n",
    "    if key == None:\n",
    "        if x.is_terminal == True:\n",
    "            x.is_terminal = False\n",
    "            x.val = nil\n",
    "        \n",
    "        for i in x.child.length:\n",
    "            if x.child[i] != None:\n",
    "                return x\n",
    "            \n",
    "        return None\n",
    "    \n",
    "    x.child[key[0]] = trie_delete(x.child[key[0]], key[1:])\n",
    "    return x"
   ]
  }
 ],
 "metadata": {
  "kernelspec": {
   "display_name": "Python 3 (ipykernel)",
   "language": "python",
   "name": "python3"
  },
  "language_info": {
   "codemirror_mode": {
    "name": "ipython",
    "version": 3
   },
   "file_extension": ".py",
   "mimetype": "text/x-python",
   "name": "python",
   "nbconvert_exporter": "python",
   "pygments_lexer": "ipython3",
   "version": "3.10.9"
  }
 },
 "nbformat": 4,
 "nbformat_minor": 5
}
