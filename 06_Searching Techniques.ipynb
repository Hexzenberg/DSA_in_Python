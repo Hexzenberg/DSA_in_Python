{
 "cells": [
  {
   "cell_type": "markdown",
   "id": "c569fcc1-f5b1-4cf3-9d72-f792d42c54a2",
   "metadata": {},
   "source": [
    "# Searching techniques"
   ]
  },
  {
   "cell_type": "markdown",
   "id": "882adb11-f479-4fa4-9ffd-084792eb47ff",
   "metadata": {},
   "source": [
    "##### - This is the sixth notebook of the Python DSA repository and will cover searching techniques. \n",
    "##### Searching and sorting (Covered in next notebook) often are a backbone for the solution of many problems or themselves are the solution to many problems.\n",
    "##### Searching as the name suggests helps us to find some element in an group of elements (linear or non-linear).\n",
    "##### Sorting algorithms sort a group of elements in either ascending or descending order.\n",
    "##### Searching techniques are of two types generally sequential (linear) and binary. \n",
    "###### Linear Search:"
   ]
  },
  {
   "cell_type": "code",
   "execution_count": 1,
   "id": "cf2d4185-51d9-4aa6-b73e-430c9562a2ba",
   "metadata": {},
   "outputs": [],
   "source": [
    "def linear_search(arr, key):\n",
    "    index = -1\n",
    "\n",
    "    for i in range(len(arr)): \n",
    "        if arr[i] == key:\n",
    "            index = i\n",
    "\n",
    "    return index"
   ]
  },
  {
   "cell_type": "code",
   "execution_count": 2,
   "id": "0fd7be47-df2b-4528-ab75-fc47745f15cd",
   "metadata": {},
   "outputs": [
    {
     "name": "stdout",
     "output_type": "stream",
     "text": [
      "2 is present at index 1.\n"
     ]
    }
   ],
   "source": [
    "arr = [1, 2, 3, 4, 5]\n",
    "print(f'2 is present at index {linear_search(arr, 2)}.')"
   ]
  },
  {
   "cell_type": "markdown",
   "id": "4b13f37d-80a0-4d93-b553-ffc31438e80d",
   "metadata": {},
   "source": [
    "###### Yes, this is the same as the one that you saw in arrays and linked lists notebooks.\n",
    "##### A word to remember about range() method though:"
   ]
  },
  {
   "cell_type": "markdown",
   "id": "2798ad13-da6d-4eec-902e-6c5db96bb6c9",
   "metadata": {},
   "source": [
    "> range(0, n) -> starts from 0 to (n - 1)\n",
    ">\n",
    "> range(n) -> also starts from 0 to (n - 1)"
   ]
  },
  {
   "cell_type": "markdown",
   "id": "6e2a7728-16d9-48de-96fe-17bed609b116",
   "metadata": {},
   "source": [
    "##### Time complexity for linear search:"
   ]
  },
  {
   "cell_type": "markdown",
   "id": "c7395659-f4b0-431a-9c9c-ecc8dbc300a5",
   "metadata": {},
   "source": [
    "> Worst Case: O(n)\n",
    ">\n",
    "> Best Case: O(1)\n",
    ">\n",
    "> Average: O(n)"
   ]
  },
  {
   "cell_type": "markdown",
   "id": "e1b9d959-6538-491b-8261-b1b08cb98b51",
   "metadata": {},
   "source": [
    "##### Moving on to Binary Search.\n",
    "###### Implementation:"
   ]
  },
  {
   "cell_type": "code",
   "execution_count": 3,
   "id": "a7922cdf-1f73-4d2d-a6c8-4913825157ac",
   "metadata": {},
   "outputs": [],
   "source": [
    "def binary_search(arr, low, high, key):\n",
    "    '''\n",
    "        This (mid) formula basically equates to mid = (high + low) // 2 then why write this formula like I have done below?\n",
    "        This is done so that the integer value limits are not crossed, for example if both low and high have high values then:\n",
    "        the (high + low) value might exceed the integer storage limit. \n",
    "    ''' \n",
    "    mid = low + (high - low) // 2 # Calculating the middle index to compare\n",
    "\n",
    "    if arr[mid] == key: \n",
    "        return mid # Returning the index of the element if it is found (long for stopping condition)\n",
    "\n",
    "    if arr[mid] > key: \n",
    "        return binary_search(arr, low, mid - 1, key) # Recursive call for the left half of the array\n",
    "    else:\n",
    "        return binary_search(arr, mid + 1, high, key) # Recursive call for the right half of the array\n",
    "\n",
    "    return -1"
   ]
  },
  {
   "cell_type": "code",
   "execution_count": 4,
   "id": "676ee6c8-a4c2-459c-a5a9-79c29494145b",
   "metadata": {},
   "outputs": [
    {
     "name": "stdout",
     "output_type": "stream",
     "text": [
      "2 is present at index 1.\n"
     ]
    }
   ],
   "source": [
    "print(f'2 is present at index {binary_search(arr, 0, 4, 2)}.')"
   ]
  },
  {
   "cell_type": "markdown",
   "id": "2d50e627-3aec-4b5c-ae8e-4d04d5225369",
   "metadata": {},
   "source": [
    "##### Now now, calm down! Look at the function again there are comments to explain what is going on read them and then come back.\n",
    "##### Okay one might think why do we need the middle element? Because, we can only make one comparison with the key value per iteration and for that the calculated index is used to fetch the middle element.\n",
    "##### If every element is compared with the key value the process just becomes linear search. Wait what is the difference between linear and binary search?"
   ]
  },
  {
   "cell_type": "markdown",
   "id": "79a491db-2ed5-40fc-a4e2-09742ad6be73",
   "metadata": {},
   "source": [
    "> Binary search follows what we call the divide and conquer paradigm for solving a problem. (It's been a while since I have thrown a random word at you right?)\n",
    ">\n",
    "> Also, binary search only works on a **sorted** array.\n",
    ">> Whenever there is _sorted_ [array] mentioned in a problem description take a minute and think how you could use binary search to solve that problem."
   ]
  },
  {
   "cell_type": "markdown",
   "id": "c668b573-23ea-4821-b7aa-a21b50f72eea",
   "metadata": {},
   "source": [
    "##### To understand the difference between binary search and linear search the divide and conquer concept must be understood; This concept basically is a technique in which a problem is divided into many similar independent sub-problems until it cannot be divided further.\n",
    "##### This is done because generally the said sub-problems are comparatively easier to solve than the original compound problem.\n",
    "##### When the sub-problems are solved and their results are accumulated it results into the solution of the original problem.\n",
    "##### There are many problems that follow this paradigm like merge sort, quick sort etc, including binary search.\n",
    "##### Time Complexity for binary search: O(log(n))"
   ]
  }
 ],
 "metadata": {
  "kernelspec": {
   "display_name": "Python 3 (ipykernel)",
   "language": "python",
   "name": "python3"
  },
  "language_info": {
   "codemirror_mode": {
    "name": "ipython",
    "version": 3
   },
   "file_extension": ".py",
   "mimetype": "text/x-python",
   "name": "python",
   "nbconvert_exporter": "python",
   "pygments_lexer": "ipython3",
   "version": "3.10.9"
  }
 },
 "nbformat": 4,
 "nbformat_minor": 5
}
