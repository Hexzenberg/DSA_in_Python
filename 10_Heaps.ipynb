{
 "cells": [
  {
   "cell_type": "markdown",
   "id": "9bdb9677-7aff-472e-840f-d9cfa0df28f6",
   "metadata": {},
   "source": [
    "##### This is the 10th notebook of the python DSA series.\n",
    "##### A heap is a tree-based data structure that satisfies the heap property: In a max heap, the value of the parent node is greater than or equal to that of the child node. In a min heap, the value of the parent node is less than or equal to the value of the child node.\n",
    "##### Can be represented using stacks but must be kept limited to some small 'K' window size!\n",
    "##### To identify if the problem is related to heap or not the simple trick is to check whether both of the following two conditions are satisfied or not:"
   ]
  },
  {
   "cell_type": "markdown",
   "id": "7e8b73bf-36c4-409f-a0b5-77dc742aae67",
   "metadata": {},
   "source": [
    "> 'K' is present in the problem description.\n",
    ">\n",
    "> To search for either the smallest or the largest element from the given data."
   ]
  },
  {
   "cell_type": "markdown",
   "id": "3da5f3b8-d6ce-46f1-ad10-ac05736b23e5",
   "metadata": {},
   "source": [
    "##### 'K' + 'Smallest' = max heap will be used.\n",
    "##### 'K' + 'Largest' = min heap will be used.\n",
    "##### 'heapq' module of Python can be used to implement this.\n",
    "##### Heaps are arrays for which a[k] <= a[2 * k + 1] and a[k] <= a[2 * k + 2] for all k, counting elements from 0. For the sake of comparison, non-existing elements are considered to be infinite. The interesting property of a heap is that a[0] is always its smallest element.\n",
    "##### Each element at the 'K'th position of the array is the parent of the elements present at the (2 * k + 1)th and (2 * k + 2)th positions.\n",
    "###### Implementation:"
   ]
  },
  {
   "cell_type": "code",
   "execution_count": null,
   "id": "1773c613-79e1-4917-9fe5-926fea242221",
   "metadata": {},
   "outputs": [],
   "source": [
    "import heapq\n",
    "\n",
    "min_heap = []\n",
    "\n",
    "# Push elements into the min heap\n",
    "heapq.heappush(min_heap, 10)\n",
    "heapq.heappush(min_heap, 20)\n",
    "heapq.heappush(min_heap, 15)\n",
    "\n",
    "smallest = heapq.heappop(min_heap)  "
   ]
  },
  {
   "cell_type": "markdown",
   "id": "662ba780-029a-4b5f-b08c-3f76c078645a",
   "metadata": {},
   "source": [
    "##### heapq is a min heap by default! The window size can be maintained by popping the elements already present inside the heap if the size of the heap increases from the threshold of some window size 'K'."
   ]
  },
  {
   "cell_type": "code",
   "execution_count": null,
   "id": "295fab15-d4d1-4137-b5e2-16278a3f69bf",
   "metadata": {},
   "outputs": [],
   "source": [
    "def add(self, val):\n",
    "        if len(self.heap) < self.k:\n",
    "            heapq.heappush(self.heap, val)  # Add value if size is less than K\n",
    "        elif val > self.heap[0]:  # Compare with the smallest element\n",
    "            heapq.heapreplace(self.heap, val) "
   ]
  },
  {
   "cell_type": "markdown",
   "id": "acb17e6a-40ab-44dc-ab04-4b861c8f0adf",
   "metadata": {},
   "source": [
    "##### Max heap can be implemented by:"
   ]
  },
  {
   "cell_type": "code",
   "execution_count": null,
   "id": "83fa139c-fefd-4606-9283-441bbf7f4f63",
   "metadata": {},
   "outputs": [],
   "source": [
    "import heapq\n",
    "\n",
    "class MaxHeap:\n",
    "    def __init__(self):\n",
    "        self.heap = []\n",
    "\n",
    "    def push(self, item):\n",
    "        # Push the negative of the value to simulate max-heap behavior\n",
    "        heapq.heappush(self.heap, -item)\n",
    "\n",
    "    def pop(self):\n",
    "        # Pop the value and negate it to get the original value\n",
    "        return -heapq.heappop(self.heap)\n",
    "\n",
    "    def peek(self):\n",
    "        # Access the largest element without popping it (negate it back)\n",
    "        return -self.heap[0] if self.heap else None\n",
    "\n",
    "    def is_empty(self):\n",
    "        return len(self.heap) == 0"
   ]
  },
  {
   "cell_type": "markdown",
   "id": "137fe150-79f9-4bda-bad3-ae5f7492eb75",
   "metadata": {},
   "source": [
    "####"
   ]
  }
 ],
 "metadata": {
  "kernelspec": {
   "display_name": "Python 3 (ipykernel)",
   "language": "python",
   "name": "python3"
  },
  "language_info": {
   "codemirror_mode": {
    "name": "ipython",
    "version": 3
   },
   "file_extension": ".py",
   "mimetype": "text/x-python",
   "name": "python",
   "nbconvert_exporter": "python",
   "pygments_lexer": "ipython3",
   "version": "3.10.9"
  }
 },
 "nbformat": 4,
 "nbformat_minor": 5
}
