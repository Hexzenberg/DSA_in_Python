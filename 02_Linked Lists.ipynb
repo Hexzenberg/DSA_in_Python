{
 "cells": [
  {
   "cell_type": "markdown",
   "id": "e5e50d56-1796-41f0-ad01-6f38351a5d6f",
   "metadata": {},
   "source": [
    "# <center> Linked Lists\n",
    "##### - This is the second notebook of the Python DSA repository and will cover all the concepts and tips for Linked Lists.\n",
    "##### - Starting from the definition and implementation to usage everything will be explained in simpler terms.\n",
    "##### After arrays the next data structure that we will discuss is known as linked list.\n",
    "##### Now, mind you I am not a Computer Science genius or a professor so I will explain this topic to you the way I get it; in simpler terms despite that I might still throw some cs jargons once in a while.\n",
    "##### So with that I will define linked lists in my very own words:\n",
    "#### Linked Lists are the type of linear data structure like arrays in which the previous element has the reference of the next element in the sequence such that each of the elements has two parts in it; ***data*** (or value) and ***reference*** for the next element.\n",
    "##### So for example a linked list looks like 1->2->3, in this structure the element '1' actually has two things stored in it one is the data 1 it self and the other is the reference to the next data element that is '2'.\n",
    "##### These are mainly of two types:\n",
    "> - Singly Linked Lists (Only refers the next element)\n",
    "> - Doubly Linked Lists (Refers both the previous and the next element)\n",
    "##### Singly linked lists implemention:"
   ]
  },
  {
   "cell_type": "code",
   "execution_count": 1,
   "id": "7ecdabf2-4c19-44df-9a7a-f19ed0f84a2b",
   "metadata": {},
   "outputs": [],
   "source": [
    "class Node():\n",
    "    def __init__(self, value):\n",
    "        self.data = value # Initialising the node with the value provided to the constructor\n",
    "        self.next = None # A new node will point to nothing"
   ]
  },
  {
   "cell_type": "code",
   "execution_count": 2,
   "id": "6603e248-4f60-4fa6-80d1-d41bc30a187f",
   "metadata": {},
   "outputs": [],
   "source": [
    "a = Node(1)\n",
    "b = Node(2)\n",
    "c = Node(3)"
   ]
  },
  {
   "cell_type": "code",
   "execution_count": 3,
   "id": "7c6b1fba-4b59-4de1-a83a-1e5fc99f0a43",
   "metadata": {},
   "outputs": [],
   "source": [
    "a.next = b\n",
    "b.next = c"
   ]
  },
  {
   "cell_type": "markdown",
   "id": "e5a88f93-8ef2-4b05-a570-b0d01772bcb9",
   "metadata": {},
   "source": [
    "###### Traversing a singly linked list."
   ]
  },
  {
   "cell_type": "code",
   "execution_count": 4,
   "id": "6ff48ee6-e449-45fe-b2bb-435e101e2e4f",
   "metadata": {},
   "outputs": [
    {
     "name": "stdout",
     "output_type": "stream",
     "text": [
      "1 2 3 "
     ]
    }
   ],
   "source": [
    "i = a\n",
    "\n",
    "while i != None:\n",
    "    print(f'{i.data}', end=' ')\n",
    "    i = i.next"
   ]
  },
  {
   "cell_type": "markdown",
   "id": "ec96bc7b-3dcd-4b75-8cd5-cf2f0c785c41",
   "metadata": {},
   "source": [
    "##### Since 'Node' is a class the attributes for the objects can be accessed by using '.' operator.\n",
    "##### In the above code _i_ is simply initialised with the first element (or the reference of the first element) and is incremented until it reaches 'None' value which marks the end of the linked list. How?\n",
    "##### Notice that the 'next' value for the _c_ node is not changed to anything and hence it still points to 'None'. While the iterator 'i' is moved using the reference that we store inside a node; with the help of 'next'.\n",
    "##### Implementing doubly linked list:"
   ]
  },
  {
   "cell_type": "code",
   "execution_count": 5,
   "id": "dde5fde8-171c-4cd4-9cfd-3eb448926999",
   "metadata": {},
   "outputs": [],
   "source": [
    "class DoubleNode():\n",
    "    def __init__(self, value):\n",
    "        self.data = value\n",
    "        self.prev = None\n",
    "        self.next = None"
   ]
  },
  {
   "cell_type": "code",
   "execution_count": 6,
   "id": "33150905-5f74-42ac-b5c5-ae2fb5666f0b",
   "metadata": {},
   "outputs": [],
   "source": [
    "d = DoubleNode(4)\n",
    "e = DoubleNode(5)\n",
    "f = DoubleNode(6)"
   ]
  },
  {
   "cell_type": "code",
   "execution_count": 7,
   "id": "270e70eb-84a3-4e36-8605-1a2f7270c7a8",
   "metadata": {},
   "outputs": [],
   "source": [
    "d.next = e\n",
    "e.prev = d # Reference the previous elememts too\n",
    "e.next = f\n",
    "f.prev = e"
   ]
  },
  {
   "cell_type": "markdown",
   "id": "3277bb87-9c2c-4b2f-8282-34d6307c791a",
   "metadata": {},
   "source": [
    "###### Similar traversal for a doubly linked list:"
   ]
  },
  {
   "cell_type": "code",
   "execution_count": 8,
   "id": "d796600c-d071-42b2-bdc0-5eb5e1fbc8af",
   "metadata": {},
   "outputs": [
    {
     "name": "stdout",
     "output_type": "stream",
     "text": [
      "Moving Forwards:\n",
      "4 5 6 \n",
      "Moving Backwards:\n",
      "6 5 4 "
     ]
    }
   ],
   "source": [
    "i = d\n",
    "\n",
    "print('Moving Forwards:')\n",
    "while i != None:\n",
    "    print(f'{i.data}', end=' ')\n",
    "    i = i.next\n",
    "\n",
    "i = f\n",
    "\n",
    "print('\\nMoving Backwards:')\n",
    "while i != None:\n",
    "    print(f'{i.data}', end=' ')\n",
    "    i = i.prev"
   ]
  },
  {
   "cell_type": "markdown",
   "id": "1f6a164c-9027-40db-b4f2-3fb1dabc0492",
   "metadata": {},
   "source": [
    "##### Searching (or well traversing) a linked list is similar to that of a list, the underlying logic is the same though the code changes because of the difference in the logic of the data structures themselves, array is contiguous memory so we do not need any sort of reference to traverse it and just need the iterator to point towards the next element until the end is reached while we need the said reference for traversing a linked list.\n",
    "\n",
    "##### Searching a linked list example code:"
   ]
  },
  {
   "cell_type": "code",
   "execution_count": 9,
   "id": "7002ff60-8c22-4d9e-996f-c71ef5d322cb",
   "metadata": {},
   "outputs": [],
   "source": [
    "def search_ll(head, value):\n",
    "    i = head\n",
    "    index = 0 # Index starting from 0\n",
    "    \n",
    "    while i != None:\n",
    "        if (i.data == value):\n",
    "            return index # Returning the index of the element if it is found\n",
    "            \n",
    "        index += 1\n",
    "        i = i.next\n",
    "        \n",
    "    return -1"
   ]
  },
  {
   "cell_type": "code",
   "execution_count": 10,
   "id": "bfa9c97e-889f-473d-8f7a-8caaeb56db16",
   "metadata": {},
   "outputs": [
    {
     "name": "stdout",
     "output_type": "stream",
     "text": [
      "index of '2' is 1\n"
     ]
    }
   ],
   "source": [
    "print(f'index of \\'2\\' is {search_ll(a, 2)}')"
   ]
  },
  {
   "cell_type": "code",
   "execution_count": 11,
   "id": "5ec2a8e2-3752-4c98-89e2-500514e0ee3c",
   "metadata": {},
   "outputs": [
    {
     "name": "stdout",
     "output_type": "stream",
     "text": [
      "index of '2' is nothing as it is not present inside the linked list.\n"
     ]
    }
   ],
   "source": [
    "print(f'index of \\'2\\' is {search_ll(d, 2) if search_ll(d, 2) != -1 else \"nothing as it is not present inside the linked list\"}.')"
   ]
  },
  {
   "cell_type": "markdown",
   "id": "837e4a79-fb7b-4819-b4a3-0b8fefeda13b",
   "metadata": {},
   "source": [
    "###### Searching for both the doubly and singly linked list is shown in the above code.\n",
    "##### Now, when to use arrays and when to use linked list?\n",
    "|Algorithm            | Arrays | Linked Lists |\n",
    "|-------------------- |--------- | ---------- |\n",
    "|Seeking Front           |  O(1)     |    O(1)    |\n",
    "|Seeking Back            |  O(1)     |    O(1)    |\n",
    "|Seeking an Index        |  O(1)     |    O(N)    |\n",
    "|Inserting at the Front      |  O(N)     |    O(1)    |\n",
    "|Inserting at the Back       |  O(1)     |    O(1)    |\n",
    "|inserting after an Item |  O(N)     |    O(1)    |\n",
    "##### **Sorting** will be shown in detail in the sorting notebook."
   ]
  }
 ],
 "metadata": {
  "kernelspec": {
   "display_name": "Python 3 (ipykernel)",
   "language": "python",
   "name": "python3"
  },
  "language_info": {
   "codemirror_mode": {
    "name": "ipython",
    "version": 3
   },
   "file_extension": ".py",
   "mimetype": "text/x-python",
   "name": "python",
   "nbconvert_exporter": "python",
   "pygments_lexer": "ipython3",
   "version": "3.10.9"
  }
 },
 "nbformat": 4,
 "nbformat_minor": 5
}
