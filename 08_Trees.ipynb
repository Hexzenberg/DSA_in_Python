{
 "cells": [
  {
   "cell_type": "markdown",
   "id": "868d907d-65d7-4508-bb11-d33831c2be43",
   "metadata": {},
   "source": [
    "##### This is the eighth notebook of the DSA in Python series and will cover Tree data structure.\n",
    "##### Trees are non linear data structures and are also known as acyclic graphs and these are mainly used in graph related problems.\n",
    "##### There are many types of trees Binary Search Tree (BST), AVL trees, Red Black trees etc.\n",
    "##### Trees can be traversed in two ways: Breadth first search (using a queue) or Level order search and depth first search (using a stack) which can be further divided into three orders (Preorder, Inorder and Postorder traversal) that will be defined and discussed.\n",
    "###### Initiation and representation of trees:"
   ]
  },
  {
   "cell_type": "code",
   "execution_count": 1,
   "id": "6335e438-c67b-4910-84d2-0815e19e710a",
   "metadata": {},
   "outputs": [],
   "source": [
    "class Node: # Defining the tree\n",
    "    def __init__(self):\n",
    "        self.val = val\n",
    "        self.left = None\n",
    "        self.right = None"
   ]
  },
  {
   "cell_type": "markdown",
   "id": "8c2b32eb-4873-4bbe-896d-caed54210ab9",
   "metadata": {},
   "source": [
    "##### Left and Right in the above definition refer to the left and right children nodes of a node. These children nodes are traversed with the help of the current node."
   ]
  },
  {
   "cell_type": "code",
   "execution_count": 2,
   "id": "1f93421a-5982-44b3-b253-ff888afb8ebf",
   "metadata": {},
   "outputs": [],
   "source": [
    "def create_tree(arr):\n",
    "    curr_ptr = 0 \n",
    "    child_ptr = 0\n",
    "\n",
    "    root = Node(arr[0])\n",
    "    curr_node = root\n",
    "\n",
    "    while i < (len(arr) - 1) / 2:\n",
    "        curr_ptr = arr[i]\n",
    "        child_ptr = i + 1\n",
    "\n",
    "        left_child = arr[child_ptr]\n",
    "        right_child = arr[child_ptr + 1]\n",
    "\n",
    "        curr_node.left = Node(left_child)\n",
    "        curr_node.right = Node(right_child)"
   ]
  },
  {
   "cell_type": "markdown",
   "id": "1f4fbdcc-0a76-4340-b6c9-e3d1f1f33998",
   "metadata": {},
   "source": [
    "##### The above code makes a tree out of an array simply by traversing the array linearly, i.e. one by one.\n",
    "### Traversals:\n",
    "##### DFS:"
   ]
  },
  {
   "cell_type": "code",
   "execution_count": 3,
   "id": "afc32ba0-5d35-4fe0-b172-208feb61c29b",
   "metadata": {},
   "outputs": [],
   "source": [
    "def dfs_rec(adj, visited, s):\n",
    "    # Mark the current vertex as visited\n",
    "    visited[s] = True\n",
    "\n",
    "    # Print the current vertex\n",
    "    print(s, end=\" \")\n",
    "\n",
    "    # Recursively visit all adjacent vertices\n",
    "    for i in adj[s]:\n",
    "        if not visited[i]:\n",
    "            dfs_rec(adj, visited, i)\n",
    "\n",
    "\n",
    "def dfs(adj, s):\n",
    "    visited = [False] * len(adj) # Initialising the visited stack\n",
    "    # Call the recursive DFS function\n",
    "    dfs_rec(adj, visited, s)"
   ]
  },
  {
   "cell_type": "markdown",
   "id": "c81a0b6a-3e35-4efe-b2d5-5377cad8b8c6",
   "metadata": {},
   "source": [
    "##### Preorder:  Root -> Left -> Right"
   ]
  },
  {
   "cell_type": "code",
   "execution_count": 4,
   "id": "d6b012c5-327d-40b7-a352-cb495afd6ebd",
   "metadata": {},
   "outputs": [],
   "source": [
    "def preorder(root):\n",
    "    if root is None:\n",
    "        return\n",
    "\n",
    "    print(root.val, end=' ')\n",
    "    preorder(root.left)\n",
    "    preorder(root.right)"
   ]
  },
  {
   "cell_type": "markdown",
   "id": "10526493-d8d3-4af6-8510-a427ded0f9fb",
   "metadata": {},
   "source": [
    "##### Inorder: Left -> Root -> Right"
   ]
  },
  {
   "cell_type": "code",
   "execution_count": 5,
   "id": "067cdc05-9c4f-4248-a8a0-d6513dc1d7df",
   "metadata": {},
   "outputs": [],
   "source": [
    "def inorder(root):\n",
    "    if root is None:\n",
    "        return \n",
    "\n",
    "    inorder(root.left)\n",
    "    print(root.val, end=' ')\n",
    "    inorder(root.right)"
   ]
  },
  {
   "cell_type": "markdown",
   "id": "f9e9900f-24e2-496e-845d-649f53082605",
   "metadata": {},
   "source": [
    "##### Postorder: Right -> Left -> Root"
   ]
  },
  {
   "cell_type": "code",
   "execution_count": 6,
   "id": "65650f97-96b6-4976-b5ec-3bb1ffc4137c",
   "metadata": {},
   "outputs": [],
   "source": [
    "def postorder(root):\n",
    "    if root is None:\n",
    "        return \n",
    "\n",
    "    inorder(root.left)\n",
    "    inorder(root.right)\n",
    "    print(root.val, end=' ')"
   ]
  },
  {
   "cell_type": "markdown",
   "id": "5ecfdf02-04a7-4267-b8db-a2cb7d7f0d30",
   "metadata": {},
   "source": [
    "##### BFS is also known as level order traversal."
   ]
  },
  {
   "cell_type": "code",
   "execution_count": 7,
   "id": "9dbf8c12-b4c2-4e62-9d21-3dbe800dcb26",
   "metadata": {},
   "outputs": [],
   "source": [
    "def levelOrderRec(root, level, res):\n",
    "    if not root:\n",
    "        return\n",
    "\n",
    "    if len(res) <= level:\n",
    "        res.append([])\n",
    "\n",
    "    # Add current node's data to its corresponding level\n",
    "    res[level].append(root.data)\n",
    "\n",
    "    # Calling for left and right child\n",
    "    levelOrderRec(root.left, level + 1, res)\n",
    "    levelOrderRec(root.right, level + 1, res)\n",
    "\n",
    "# Function to perform level order traversal\n",
    "def levelOrder(root):\n",
    "    res = []\n",
    "    levelOrderRec(root, 0, res)\n",
    "    return res"
   ]
  },
  {
   "cell_type": "markdown",
   "id": "21705274-291f-4ac1-838e-697fe58946bb",
   "metadata": {},
   "source": [
    "##### Binary Search Tree is a type of tree in which left child is smaller than the current node and the right node is bigger than the current node."
   ]
  },
  {
   "cell_type": "code",
   "execution_count": 8,
   "id": "ae40aa31-1b44-450b-b8a6-0820a8d2ff3c",
   "metadata": {},
   "outputs": [],
   "source": [
    "def search(node, target):\n",
    "    if node is None:\n",
    "        return None # Return None if the target is not present\n",
    "        \n",
    "    elif node.data == target:\n",
    "        return node\n",
    "    elif target < node.data: # Move to left child if the current node is larger than the target\n",
    "        return search(node.left, target)\n",
    "    else: # Move to right child if the current node is smaller than the target\n",
    "        return search(node.right, target)"
   ]
  }
 ],
 "metadata": {
  "kernelspec": {
   "display_name": "Python 3 (ipykernel)",
   "language": "python",
   "name": "python3"
  },
  "language_info": {
   "codemirror_mode": {
    "name": "ipython",
    "version": 3
   },
   "file_extension": ".py",
   "mimetype": "text/x-python",
   "name": "python",
   "nbconvert_exporter": "python",
   "pygments_lexer": "ipython3",
   "version": "3.10.9"
  }
 },
 "nbformat": 4,
 "nbformat_minor": 5
}
