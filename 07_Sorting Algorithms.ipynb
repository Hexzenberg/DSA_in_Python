{
 "cells": [
  {
   "cell_type": "markdown",
   "id": "483b9e02-7f73-4908-93a8-bb24cc122c58",
   "metadata": {},
   "source": [
    "##### This is the seventh notebook of the DSA in python repository and will cover all of the majorly used sorting algorithms in detail.\n",
    "\n",
    "##### Sorting algorhms are often the basic building blocks of solution to a coding problem.\n",
    "##### There is not much on sorting algorithms because they simply sort the elements of a array in either descending or ascending order.\n",
    "##### Often used to find smallest or largest elements from the array.\n",
    "### Bubble Sort:"
   ]
  },
  {
   "cell_type": "code",
   "execution_count": 1,
   "id": "431fe7bd-257d-4ff9-8438-765e4325125c",
   "metadata": {},
   "outputs": [],
   "source": [
    "def bubble_sort(arr):\n",
    "    n = len(arr)\n",
    "\n",
    "    for i in range(0, n):\n",
    "        for j in range(0, n - i - 1):\n",
    "            if arr[j] < arr[j+1]:\n",
    "                arr[j], arr[j+1] = arr[j+1], arr[j]"
   ]
  },
  {
   "cell_type": "markdown",
   "id": "3525714d-d14e-4533-b69e-115e4757dff6",
   "metadata": {},
   "source": [
    "##### The above code represents the simple form of bubble sort; that works by repeatedly swapping the adjacent elements if they are in the wrong order.\n",
    "##### Bubble sort can be further optimised by keeping track is any swaps are made or not as if there were no swaps then it means that no elements are in the wrong order at all inside the array and we need to stop sorting. \n",
    "##### This modification also helps reduce time complexity in already sorted arrays."
   ]
  },
  {
   "cell_type": "code",
   "execution_count": 2,
   "id": "b010dc84-b298-4d18-b785-93e6991ab014",
   "metadata": {},
   "outputs": [],
   "source": [
    "def optimised_bubble_sort(arr):\n",
    "    n = len(arr)\n",
    "\n",
    "    for i in range(0, n):\n",
    "        swapped = False\n",
    "        \n",
    "        for j in range(0, n - i - 1):\n",
    "            if arr[j] < arr[j+1]:\n",
    "                arr[j], arr[j+1] = arr[j+1], arr[j]\n",
    "                swapped = True\n",
    "\n",
    "        if swapped == False:\n",
    "            break"
   ]
  },
  {
   "cell_type": "markdown",
   "id": "c6db2851-42b1-48ee-a988-b305102e1bb4",
   "metadata": {},
   "source": [
    "##### As prevelant from the above code; _swapped_ variable has been used to keep track of any swaps if they are happening at all and they are not we are breaking the entire loop.\n",
    "##### Time complexity of bubble sort is:"
   ]
  },
  {
   "cell_type": "markdown",
   "id": "d47b0332-b397-4819-af0a-768dc27599af",
   "metadata": {},
   "source": [
    "> Worst case: O(n<sup>2</sup>)\n",
    "> \n",
    "> Best Case (Already sorted array): O(n)\n",
    "> \n",
    "> Average Case: O(n<sup>2</sup>)"
   ]
  },
  {
   "cell_type": "markdown",
   "id": "12986768-e69a-4c78-8854-99ca46ccec25",
   "metadata": {},
   "source": [
    "### Insertion Sort:"
   ]
  },
  {
   "cell_type": "code",
   "execution_count": 3,
   "id": "f459c3a8-ef48-48bc-8d7d-6faa940638a4",
   "metadata": {},
   "outputs": [],
   "source": [
    "def insertion_sort(arr):\n",
    "    n = len(arr)\n",
    "\n",
    "    for i in range(0, n):\n",
    "        j = i - 1\n",
    "\n",
    "        while j > 0 and arr[j] > arr[i]:\n",
    "            arr[j+1] = arr[j]\n",
    "            j -= 1\n",
    "\n",
    "        arr[j+1] = arr[i]"
   ]
  },
  {
   "cell_type": "markdown",
   "id": "87343f78-0288-4985-bd11-1b59c7c7762a",
   "metadata": {},
   "source": [
    "##### The above code shifts the larger elements present before the current (_ith_) element towards its right, this happens inside the while loop.\n",
    "##### We keep shifting the elements until the _jth_ index is not present at an element smaller than the _ith_ element or j is not smaller than 0.\n",
    "##### Once the shifting process is over we copy the current element next to the _jth_ element because either the current _jth_ element is smaller than the _ith_ element or the value of j is less than 0.\n",
    "##### Time complexity:"
   ]
  },
  {
   "cell_type": "markdown",
   "id": "154e4d89-a7be-484a-887d-7946e2d1a3de",
   "metadata": {},
   "source": [
    "> Worst case: O(n<sup>2</sup>)\n",
    ">\n",
    "> Best case (Sorted array):  O(n)\n",
    ">\n",
    "> Average case:  O(n<sup>2</sup>)"
   ]
  },
  {
   "cell_type": "markdown",
   "id": "fa703f41-971d-4566-890a-24c612a8e835",
   "metadata": {},
   "source": [
    "##### Yes, insertion sort is optimal; Does not perform worse even in case of an already sorted array, as it does not need to do any sort of shifting if the elements to the left of the current element are smaller than it (the while loop won't be entered since its an **and** condition) \n",
    "### Merge Sort:"
   ]
  },
  {
   "cell_type": "code",
   "execution_count": 4,
   "id": "90a552b2-192b-4448-9760-b92baccf6fe6",
   "metadata": {},
   "outputs": [],
   "source": [
    "def merge_sort(arr, left, right):\n",
    "    if left < right:\n",
    "        mid = (left + right) // 2\n",
    "\n",
    "    merge_sort(arr, left, mid)\n",
    "    merge_sort(arr, mid+1, right)\n",
    "    merge(arr, left, mid, right)"
   ]
  },
  {
   "cell_type": "markdown",
   "id": "2cf9fea4-e11a-4d5d-ba4d-dc43eba0db76",
   "metadata": {},
   "source": [
    "##### That's it! That merge sort for you. Huh? What? Hey, now that you have looked upon the code again what is that merge function? It was never explained was it? Whoa! whoa! Chill out, sorry, it will be covered but before that do you get the merge_sort function?\n",
    "##### There are two recursive calls for two halfs which was done by calculating the mid variable; That calculation is also the stopping condition by the way.\n",
    "##### The last line calls for the merge function, which, well merges two halves. This, like binary search, is a problem of the divide and conquer paradigm.\n",
    "##### The array has been divided at the mid multiple times until not possible; Which is until we have two elements as one element on its own cannot be divided into two different elements to be compared, and then these are merged according to their comparisons i.e. the smaller element is added first and then the larger one is added.\n",
    "##### Hence if you have sorted two elements i.e. solved the sub problem, the solutions will be combined to get the over all solution.\n",
    "###### merge function:"
   ]
  },
  {
   "cell_type": "code",
   "execution_count": 5,
   "id": "84ae17ad-8b53-4722-aeca-d30415a7c3fb",
   "metadata": {},
   "outputs": [],
   "source": [
    "def merge(arr, left, mid, right):\n",
    "    i = left \n",
    "    j = mid + 1\n",
    "    n = right - left + 1\n",
    "    temp = [0] * n # Temporary array to store the sorted elements\n",
    "    l = 0\n",
    "    \n",
    "    while i <= mid and j <= right: \n",
    "        if arr[i] < arr[j]: # Element in the left half is smaller than the right side\n",
    "            temp[l] = arr[i] # Copy the smaller element to the temporary array\n",
    "            i += 1\n",
    "        else:\n",
    "            temp[l] = arr[j]\n",
    "            j += 1\n",
    "            \n",
    "        l += 1\n",
    "\n",
    "    # If any half of the array was left in the above while loop then traverse that half until all its elements are also \n",
    "    # moved to the temporary array\n",
    "    while i <= mid: \n",
    "        temp[l] = arr[i]\n",
    "        l += 1\n",
    "        i += 1\n",
    "\n",
    "    while j <= right:\n",
    "        temp[l] = arr[j]\n",
    "        l += 1\n",
    "        j += 1\n",
    "\n",
    "    for k in range(n): # Copy the temporary array elements back to the main array\n",
    "        arr[left + k] = temp[k]"
   ]
  },
  {
   "cell_type": "markdown",
   "id": "c130cc60-5c7a-4e86-be3f-5f67c1759677",
   "metadata": {},
   "source": [
    "Time complexity:"
   ]
  },
  {
   "cell_type": "markdown",
   "id": "374f12f0-7350-427d-8ebb-9b6587a26c03",
   "metadata": {},
   "source": [
    "> Worst case: O(nlogn)\n",
    ">\n",
    "> Best case: O(nlogn)\n",
    ">\n",
    "> Average case: O(nlogn)"
   ]
  },
  {
   "cell_type": "markdown",
   "id": "a38f6cd7-2622-4513-bc27-1e996985fa11",
   "metadata": {},
   "source": [
    "### Quick Sort:"
   ]
  },
  {
   "cell_type": "code",
   "execution_count": 6,
   "id": "e19e8e19-bceb-4ad1-8466-0d131825bca6",
   "metadata": {},
   "outputs": [],
   "source": [
    "def quick_sort(arr, low, high):\n",
    "    if low < high:\n",
    "        pivot = partition(arr, low, high)\n",
    "\n",
    "    quick_sort(arr, low, pivot - 1)\n",
    "    quick_sort(arr, pivot + 1, high)"
   ]
  },
  {
   "cell_type": "markdown",
   "id": "07ef3cb7-ae96-484a-9a4d-deb894607411",
   "metadata": {},
   "source": [
    "##### Like merge sort, quick sort also is a problem of the divide and conquer paradigm, except in this case we have to choose a pivot element and then divide the array into two parts while excluding that pivot element, remember that in merge sort we divide the array into two parts one of which includes the _mid_ element.\n",
    "##### Looking at the code it is evident how the index of the pivot element is calculated by calling the partition function and what are the recursive calls to divide the problem and also the stopping condition.\n",
    "###### Partition function:"
   ]
  },
  {
   "cell_type": "code",
   "execution_count": 7,
   "id": "7e05aa3b-d5ed-40a7-a816-8714043a1f14",
   "metadata": {},
   "outputs": [],
   "source": [
    "def partition(arr, low, high):\n",
    "    pivot = arr[low] # Selecting the pivot element  \n",
    "    i = low\n",
    "    j = high\n",
    "\n",
    "    while i < j: # Traversing the array until the left pointer has not crossed the right pointer\n",
    "        while arr[i] <= pivot and i <= high - 1: # Find the element bigger than pivot element until the end of the array\n",
    "            i += 1\n",
    "\n",
    "        while arr[j] > pivot and j >= low + 1: # Find the element smaller than pivot until the beginning of the array\n",
    "            j -= 1\n",
    "\n",
    "        if i < j: # Swap these numbers if the left pointer is still less than the right pointer \n",
    "            arr[i], arr[j] = arr[j], arr[i]\n",
    "\n",
    "    # Swap jth element with pivot element when j is less than i \n",
    "    arr[low], arr[j] = arr[j], arr[low] \n",
    "    return j; # Returning the partition index/pivot element index"
   ]
  },
  {
   "cell_type": "markdown",
   "id": "d42ea62f-6a45-49d7-880d-797c2cddcd0b",
   "metadata": {},
   "source": [
    "##### As seen from the partition code the pivot elements' position was fixed because the elements smaller than it are moved to its left and the elements bigger than it were moved to its right; This is why the pivot element is left out of the next step when the division is made again.\n",
    "##### This phenomenon helps reduce the space complexity when the number of elements is very big in the array.\n",
    "##### Time complexity:"
   ]
  },
  {
   "cell_type": "markdown",
   "id": "cbd71f60-882b-4c59-b62b-e55e8e27af89",
   "metadata": {},
   "source": [
    "> Worst case: O(n<sup>2</sup>)\n",
    ">\n",
    "> Best case: O(nlogn)\n",
    ">\n",
    "> Average case: O(nlogn)"
   ]
  },
  {
   "cell_type": "markdown",
   "id": "045120de-c066-4648-8b62-03b518159708",
   "metadata": {},
   "source": [
    "##### Why n<sup>2</sup>? Because, if the pivot element is either the smallest or the largest element of that sub array then a lot of recursive calls are made in these cases which is a hassle.\n",
    "##### Though this can be greatly reduced if the pivot element is selected randomly which can reduce the time complexity from O(n<sup>2</sup>) to O(nlogn).\n",
    "### Selection Sort:"
   ]
  },
  {
   "cell_type": "code",
   "execution_count": 8,
   "id": "6fffab3e-2275-4eaf-a80c-26a76dd0263c",
   "metadata": {},
   "outputs": [],
   "source": [
    "def selection_sort(arr):\n",
    "    n = len(arr)\n",
    "\n",
    "    for i in range(0, n - 1):\n",
    "        m = i\n",
    "\n",
    "        for j in range(i + 1, n):\n",
    "            if arr[j] < arr[m]:\n",
    "                m = j\n",
    "\n",
    "        arr[m], arr[i] = arr[i], arr[m]"
   ]
  },
  {
   "cell_type": "markdown",
   "id": "3f7f8d40-62b7-43a7-912f-fd9f9b5f238d",
   "metadata": {},
   "source": [
    "##### The smallest element is selected after the _ith_ index in each loop and then swapped with the element in the left most index (represented by _i_).\n",
    "##### Selection sort is rather simple and the smallest element is basically selected and then shifted to the left most position possible for that particular loop.\n",
    "##### Time Complexity:"
   ]
  },
  {
   "cell_type": "markdown",
   "id": "372afad9-e8ec-4ce6-9d8d-18db522b0130",
   "metadata": {},
   "source": [
    "> Worst case: O(n<sup>2</sup>)\n",
    ">\n",
    "> Best case: O(n<sup>2</sup>)\n",
    ">\n",
    "> Average case: O(n<sup>2</sup>)"
   ]
  },
  {
   "cell_type": "markdown",
   "id": "17cdfd78-ab94-4b17-aa9b-919aea2a268b",
   "metadata": {},
   "source": [
    "### Heap sort:"
   ]
  },
  {
   "cell_type": "code",
   "execution_count": 9,
   "id": "751b69d4-f8ad-4205-b960-db67dc360a2a",
   "metadata": {},
   "outputs": [],
   "source": [
    "def heap_sort(arr):\n",
    "    n = len(arr)\n",
    "    start = (n // 2) - 1\n",
    "\n",
    "    for i in range(start, -1, -1):\n",
    "        heapify(arr, i)\n",
    "\n",
    "    # Extracting the elements one by one\n",
    "    for i in range(n - 1, 0, -1):\n",
    "        arr[0], arr[i] = arr[i], arr[0] \n",
    "        heapify(arr, i, 0)"
   ]
  },
  {
   "cell_type": "markdown",
   "id": "329961b3-6db2-43bc-b8ff-e9fb63742079",
   "metadata": {},
   "source": [
    "##### What. Is. A. Heap? Well unlike the above sorting techniques that were sort of simply named \n",
    "##### Heap is a non linear data structure sort of like a tree; With a feature like the root has to be the maximum element or greater element than its children or the minimum or smaller element than its children.\n",
    "##### Heap sort heapifies (using, uh, the heapify function) and then extracts the elements one by one and hence the array is sorted according to the property of the heap (max or min)"
   ]
  },
  {
   "cell_type": "code",
   "execution_count": 10,
   "id": "44222ce9-aec6-4055-847e-1e2aad7cb0d0",
   "metadata": {},
   "outputs": [],
   "source": [
    "def heapify(arr, n, i):\n",
    "    largest = i\n",
    "    left = 2 * i + 1  # Left child\n",
    "    right = 2 * i + 2  # Right child\n",
    "\n",
    "    if left < n and arr[left] > arr[largest]:  # Check if left child exists and is greater than root\n",
    "        largest = left\n",
    "\n",
    "    if right < n and arr[right] > arr[largest]: # Check if right child exists and is greater than the largest so far\n",
    "        largest = right\n",
    "\n",
    "    if largest != i: # If the largest is not the root\n",
    "        arr[i], arr[largest] = arr[largest], arr[i]  \n",
    "        heapify(arr, n, largest)"
   ]
  },
  {
   "cell_type": "markdown",
   "id": "94301eb9-625b-4826-b694-01f8ae66b7e0",
   "metadata": {},
   "source": [
    "##### Time complexity:"
   ]
  },
  {
   "cell_type": "markdown",
   "id": "b7b873b4-8a42-4e06-9919-1639568fcf22",
   "metadata": {},
   "source": [
    "> Worst case: O(nlogn)\n",
    ">\n",
    "> Best case: O(nlogn)\n",
    ">\n",
    "> Average case: O(nlogn)"
   ]
  }
 ],
 "metadata": {
  "kernelspec": {
   "display_name": "Python 3 (ipykernel)",
   "language": "python",
   "name": "python3"
  },
  "language_info": {
   "codemirror_mode": {
    "name": "ipython",
    "version": 3
   },
   "file_extension": ".py",
   "mimetype": "text/x-python",
   "name": "python",
   "nbconvert_exporter": "python",
   "pygments_lexer": "ipython3",
   "version": "3.10.9"
  }
 },
 "nbformat": 4,
 "nbformat_minor": 5
}
