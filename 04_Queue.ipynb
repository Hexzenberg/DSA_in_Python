{
 "cells": [
  {
   "cell_type": "markdown",
   "id": "abcbb5fd-75db-4e12-bd14-30bfb43f24b9",
   "metadata": {},
   "source": [
    "# Queues"
   ]
  },
  {
   "cell_type": "markdown",
   "id": "dc550584-b254-44f7-a4d2-0319fd9c6f64",
   "metadata": {},
   "source": [
    "- This is the fourth notebook of the DSA repository and will cover the concepts and tips for queue data structure."
   ]
  },
  {
   "cell_type": "markdown",
   "id": "12156607-fe2c-4835-821d-8f416c7321af",
   "metadata": {},
   "source": [
    "##### Queues are also a type of linear data structure but as always there is a twist which is that an element can only enter from the back and can only leave from the front.\n",
    "##### Queues follow the FIFO process i.e. First In, First Out."
   ]
  },
  {
   "cell_type": "markdown",
   "id": "0fafcdf2-2365-477b-88b8-1c53bb6acc97",
   "metadata": {},
   "source": [
    "##### If explained in a classic manner if stack has a _top_ pointer then queue has two pointers; _rear_ and _front_.\n",
    "##### Which as the names suggest point to the end and the front of the queue respectively."
   ]
  },
  {
   "cell_type": "markdown",
   "id": "a977fa2c-2946-430a-ab85-34d204a05c19",
   "metadata": {},
   "source": [
    "##### The FIFO property can be understood by dry running an example quickly. Take a queue [1, 2, 3] for example."
   ]
  },
  {
   "cell_type": "markdown",
   "id": "1c883e5f-4960-42f1-889f-070b3e06d209",
   "metadata": {},
   "source": [
    "> Adding an element, let's say 4:\n",
    ">> queue becomes [1, 2, 3, 4]"
   ]
  },
  {
   "cell_type": "markdown",
   "id": "b2bd7063-0013-4de2-8ee0-38604896c981",
   "metadata": {},
   "source": [
    "> Removing an element:\n",
    ">> queue becomes [2, 3, 4]"
   ]
  },
  {
   "cell_type": "markdown",
   "id": "75f5538f-93be-4385-be40-ac7e6d6232ea",
   "metadata": {},
   "source": [
    "###### Implementation:"
   ]
  },
  {
   "cell_type": "code",
   "execution_count": 1,
   "id": "122b1594-a9ce-41aa-826e-91055624f0e5",
   "metadata": {},
   "outputs": [],
   "source": [
    "class Queue:\n",
    "    def __init__(self):\n",
    "        self.items = [] # Declares an empty array to be used as a queue\n",
    "\n",
    "    def is_empty(self):\n",
    "        return self.items == [] # Returns true if the array is empty\n",
    "\n",
    "    def enqueue(self, item):\n",
    "        self.items.append(item) # Adds a new element at rear\n",
    "\n",
    "    def dequeue(self):\n",
    "        if not self.is_empty():\n",
    "            self.items.pop(0) # Removes an element from front\n",
    "\n",
    "    def print_queue(self):\n",
    "        copy = self.items[:]  # This creates a shallow copy of the list\n",
    "    \n",
    "        while len(copy) > 0:\n",
    "            print(copy[0], end=' ')  # Prints the front\n",
    "            copy.pop(0)  # Removes the front"
   ]
  },
  {
   "cell_type": "code",
   "execution_count": 2,
   "id": "38b92cfa-51b6-483d-b411-6ad30bb792c5",
   "metadata": {},
   "outputs": [],
   "source": [
    "q = Queue()"
   ]
  },
  {
   "cell_type": "code",
   "execution_count": 3,
   "id": "7b7486c2-aabd-4684-a420-02f2ac44e399",
   "metadata": {},
   "outputs": [
    {
     "data": {
      "text/plain": [
       "True"
      ]
     },
     "execution_count": 3,
     "metadata": {},
     "output_type": "execute_result"
    }
   ],
   "source": [
    "q.is_empty()"
   ]
  },
  {
   "cell_type": "code",
   "execution_count": 4,
   "id": "71d9eecb-409f-4eed-887d-de8f01cf5013",
   "metadata": {},
   "outputs": [],
   "source": [
    "q.enqueue(1)\n",
    "q.enqueue(2)\n",
    "q.enqueue(3)\n",
    "q.enqueue(4)"
   ]
  },
  {
   "cell_type": "code",
   "execution_count": 5,
   "id": "a715cfa3-25fa-45e5-b7a8-59c998662bb9",
   "metadata": {},
   "outputs": [
    {
     "data": {
      "text/plain": [
       "False"
      ]
     },
     "execution_count": 5,
     "metadata": {},
     "output_type": "execute_result"
    }
   ],
   "source": [
    "q.is_empty()"
   ]
  },
  {
   "cell_type": "code",
   "execution_count": 6,
   "id": "5afe6c83-d836-4591-bb7a-6ee37ef5a88f",
   "metadata": {},
   "outputs": [
    {
     "name": "stdout",
     "output_type": "stream",
     "text": [
      "1 2 3 4 "
     ]
    }
   ],
   "source": [
    "q.print_queue()"
   ]
  },
  {
   "cell_type": "code",
   "execution_count": 7,
   "id": "55e1cf3a-f96e-4a18-b3ad-ca60e1547e0c",
   "metadata": {},
   "outputs": [],
   "source": [
    "q.dequeue()"
   ]
  },
  {
   "cell_type": "code",
   "execution_count": 8,
   "id": "e1574cae-6f7b-486f-8819-d1f1b46ba125",
   "metadata": {},
   "outputs": [
    {
     "name": "stdout",
     "output_type": "stream",
     "text": [
      "2 3 4 "
     ]
    }
   ],
   "source": [
    "q.print_queue()"
   ]
  },
  {
   "cell_type": "markdown",
   "id": "3855041a-b509-4178-9581-09698905c189",
   "metadata": {},
   "source": [
    "###### The above code snippet shows the correct implementation of both enqueue and dequeue in Python.\n",
    "##### There are several types of queues dequeues, circular queues which maybe used according to the needs."
   ]
  },
  {
   "cell_type": "markdown",
   "id": "befd9c3f-9641-4529-9cc0-4816b6b91279",
   "metadata": {},
   "source": [
    "#### Double Ended Queues(Dequeues)\n",
    "##### In dequeues you can both add and remove from both front and back of the queue."
   ]
  },
  {
   "cell_type": "code",
   "execution_count": 9,
   "id": "a5913288-6663-4de9-9e35-1df60bf4225b",
   "metadata": {},
   "outputs": [],
   "source": [
    "class Dequeue:\n",
    "    def __init__(self):\n",
    "        self.items = []\n",
    "\n",
    "    def is_empty(self):\n",
    "        return self.items == []\n",
    "\n",
    "    def enqueue_rear(self, item):\n",
    "        self.items.append(item)\n",
    "\n",
    "    def enqueue_front(self, item):\n",
    "        self.items.insert(0, item)\n",
    "\n",
    "    def dequeue_front(self):\n",
    "        if not self.is_empty():\n",
    "            self.items.pop(0)\n",
    "\n",
    "    def dequeue_rear(self):\n",
    "        if not self.is_empty():\n",
    "            self.items.pop()\n",
    "\n",
    "    def size(self):\n",
    "        return len(self.items)\n",
    "\n",
    "    def print_dequeue_front(self):\n",
    "        copy = self.items[:]  \n",
    "    \n",
    "        while len(copy) > 0:\n",
    "            print(copy[0], end=' ')  # Prints the front\n",
    "            copy.pop(0)  # Removes the front\n",
    "\n",
    "    def print_dequeue_rear(self):\n",
    "        copy = self.items[:]  \n",
    "    \n",
    "        while len(copy) > 0:\n",
    "            print(copy[len(copy) - 1], end=' ')  # Prints the rear\n",
    "            copy.pop()  # Removes the rear\n",
    "\n",
    "    def print_queue(self):\n",
    "        copy = self.items[:]  # This creates a shallow copy of the list\n",
    "    \n",
    "        while len(copy) > 0:\n",
    "            print(copy[0], end=' ')  # Prints the front\n",
    "            copy.pop(0)  # Removes the front"
   ]
  },
  {
   "cell_type": "code",
   "execution_count": 10,
   "id": "ba6456a9-29b4-455e-ab69-5b86ec42487a",
   "metadata": {},
   "outputs": [],
   "source": [
    "dq = Dequeue()"
   ]
  },
  {
   "cell_type": "code",
   "execution_count": 11,
   "id": "ce146d5c-8235-480b-b873-96cdbef581ee",
   "metadata": {},
   "outputs": [
    {
     "data": {
      "text/plain": [
       "True"
      ]
     },
     "execution_count": 11,
     "metadata": {},
     "output_type": "execute_result"
    }
   ],
   "source": [
    "dq.is_empty()"
   ]
  },
  {
   "cell_type": "code",
   "execution_count": 12,
   "id": "4f7a2576-cbda-4ab0-ad3e-b32cf50ce735",
   "metadata": {},
   "outputs": [],
   "source": [
    "dq.enqueue_front(1)\n",
    "dq.enqueue_rear(2)\n",
    "dq.enqueue_front(3)\n",
    "dq.enqueue_rear(4)"
   ]
  },
  {
   "cell_type": "code",
   "execution_count": 13,
   "id": "757a99fa-acd1-4b99-b8a0-beeec673360f",
   "metadata": {},
   "outputs": [
    {
     "data": {
      "text/plain": [
       "False"
      ]
     },
     "execution_count": 13,
     "metadata": {},
     "output_type": "execute_result"
    }
   ],
   "source": [
    "dq.is_empty()"
   ]
  },
  {
   "cell_type": "code",
   "execution_count": 14,
   "id": "f4d595d7-f02f-4993-a883-75c9a74368ec",
   "metadata": {},
   "outputs": [
    {
     "name": "stdout",
     "output_type": "stream",
     "text": [
      "3 1 2 4 "
     ]
    }
   ],
   "source": [
    "dq.print_dequeue_front()"
   ]
  },
  {
   "cell_type": "code",
   "execution_count": 15,
   "id": "ab1bcee7-f3f6-4809-91d5-126a82b77f7a",
   "metadata": {},
   "outputs": [
    {
     "name": "stdout",
     "output_type": "stream",
     "text": [
      "4 2 1 3 "
     ]
    }
   ],
   "source": [
    "dq.print_dequeue_rear()"
   ]
  },
  {
   "cell_type": "code",
   "execution_count": 16,
   "id": "2ff03fb0-4ad6-492d-ba5d-9cacf3f3168f",
   "metadata": {},
   "outputs": [],
   "source": [
    "dq.dequeue_front()"
   ]
  },
  {
   "cell_type": "code",
   "execution_count": 17,
   "id": "fa171494-beff-45cf-9b1b-77b8b260b1d9",
   "metadata": {},
   "outputs": [],
   "source": [
    "dq.dequeue_rear()"
   ]
  },
  {
   "cell_type": "code",
   "execution_count": 18,
   "id": "60284a84-016e-41c2-8981-20b33f86e07e",
   "metadata": {},
   "outputs": [
    {
     "name": "stdout",
     "output_type": "stream",
     "text": [
      "1 2 "
     ]
    }
   ],
   "source": [
    "dq.print_dequeue_front()"
   ]
  },
  {
   "cell_type": "code",
   "execution_count": 19,
   "id": "8a429b4f-0489-433f-96c2-8d28aee3b2fd",
   "metadata": {},
   "outputs": [
    {
     "name": "stdout",
     "output_type": "stream",
     "text": [
      "2 1 "
     ]
    }
   ],
   "source": [
    "dq.print_dequeue_rear()"
   ]
  },
  {
   "cell_type": "markdown",
   "id": "0c091cb2-8d09-4d3c-8285-d52ea556ca7c",
   "metadata": {},
   "source": [
    "###### Since the queue data structure was already explained before, dequeue code is self explanatory.\n",
    "#### Circular Queue:\n",
    "##### Entry at rear and exit at front just like queues except the rear is actually calculated by the formula:"
   ]
  },
  {
   "cell_type": "markdown",
   "id": "493604ca-5da5-4475-98e3-10af3d9b5299",
   "metadata": {},
   "source": [
    "> rear = (rear + 1) % max_size_of_the_queue"
   ]
  },
  {
   "cell_type": "markdown",
   "id": "64e5b00d-7cd6-481e-a32c-a51adfecfd61",
   "metadata": {},
   "source": [
    "##### Front is calculated by a similar formula:"
   ]
  },
  {
   "cell_type": "markdown",
   "id": "6da94989-00ec-43f0-8a7f-540665fc9acf",
   "metadata": {},
   "source": [
    "> front = (front + 1) % max_size_of_the_queue"
   ]
  },
  {
   "cell_type": "markdown",
   "id": "d5115220-9bfb-4dfc-a267-e19525dd34ed",
   "metadata": {},
   "source": [
    "##### Since there is an interesting formula for traversal in circular queues a more detailed code has been implemented."
   ]
  },
  {
   "cell_type": "code",
   "execution_count": 20,
   "id": "c41739c7-ff8c-46bd-bd41-fa45622f539a",
   "metadata": {},
   "outputs": [],
   "source": [
    "class CircularQueue:\n",
    "    def __init__(self, size):\n",
    "        self.max_size = size\n",
    "        self.items = [None] * size  # Initialize the list with None to represent empty slots\n",
    "        self.front = -1\n",
    "        self.rear = -1\n",
    "\n",
    "    def is_empty(self):\n",
    "        return self.front == -1 and self.rear == -1\n",
    "\n",
    "    def is_full(self):\n",
    "        return (self.rear + 1) % self.max_size == self.front # Formula for the full condition\n",
    "\n",
    "    def enqueue(self, item):\n",
    "        if self.is_full():\n",
    "            print(\"Queue is full. Cannot enqueue.\")\n",
    "        else:\n",
    "            if self.is_empty():\n",
    "                self.front = 0  # Initialize to 0th index\n",
    "            self.rear = (self.rear + 1) % self.max_size\n",
    "            self.items[self.rear] = item\n",
    "            print(f\"Enqueued {item} to the queue.\")\n",
    "\n",
    "    def dequeue(self):\n",
    "        if self.is_empty():\n",
    "            print(\"Queue is empty. Cannot dequeue.\")\n",
    "            return -1  # Assuming -1 represents an empty value\n",
    "        else:\n",
    "            item = self.items[self.front]\n",
    "            self.items[self.front] = None  # Optional: clear the slot\n",
    "            if self.front == self.rear:\n",
    "                # Queue has only one element, reset it\n",
    "                self.front = -1\n",
    "                self.rear = -1\n",
    "            else:\n",
    "                # Move the front pointer\n",
    "                self.front = (self.front + 1) % self.max_size\n",
    "            print(f\"Dequeued {item} from the queue.\")\n",
    "            return item\n",
    "\n",
    "    def peek(self):\n",
    "        if not self.is_empty():\n",
    "            return self.items[self.front]\n",
    "        else:\n",
    "            print(\"Queue is empty. No peek value.\")\n",
    "            return -1  # Assuming -1 represents an empty value\n",
    "\n",
    "    def print_queue(self):\n",
    "        if self.is_empty():\n",
    "            print(\"Queue is empty.\")\n",
    "        else:\n",
    "            index = self.front\n",
    "            print(\"Queue:\", end=\" \")\n",
    "            while True:\n",
    "                print(self.items[index], end=\" \")\n",
    "                if index == self.rear:\n",
    "                    break\n",
    "                index = (index + 1) % self.max_size\n",
    "            print()"
   ]
  },
  {
   "cell_type": "code",
   "execution_count": 21,
   "id": "8520ea7b-9fb1-4fd2-b5ea-dc96d60fdde0",
   "metadata": {},
   "outputs": [],
   "source": [
    "cq = CircularQueue(5)"
   ]
  },
  {
   "cell_type": "code",
   "execution_count": 22,
   "id": "f8171f7f-e2bf-404c-bdc9-69f4296d7568",
   "metadata": {},
   "outputs": [
    {
     "data": {
      "text/plain": [
       "True"
      ]
     },
     "execution_count": 22,
     "metadata": {},
     "output_type": "execute_result"
    }
   ],
   "source": [
    "cq.is_empty()"
   ]
  },
  {
   "cell_type": "code",
   "execution_count": 23,
   "id": "2e8f308b-57f5-4a13-a4a4-4d0372719cde",
   "metadata": {},
   "outputs": [
    {
     "name": "stdout",
     "output_type": "stream",
     "text": [
      "Enqueued 1 to the queue.\n",
      "Enqueued 2 to the queue.\n",
      "Enqueued 3 to the queue.\n",
      "Enqueued 4 to the queue.\n",
      "Enqueued 5 to the queue.\n"
     ]
    }
   ],
   "source": [
    "cq.enqueue(1)\n",
    "cq.enqueue(2)\n",
    "cq.enqueue(3)\n",
    "cq.enqueue(4)\n",
    "cq.enqueue(5) "
   ]
  },
  {
   "cell_type": "code",
   "execution_count": 24,
   "id": "cf6458c4-4bb9-4305-869f-7e6f8d11a64f",
   "metadata": {},
   "outputs": [
    {
     "data": {
      "text/plain": [
       "False"
      ]
     },
     "execution_count": 24,
     "metadata": {},
     "output_type": "execute_result"
    }
   ],
   "source": [
    "cq.is_empty()"
   ]
  },
  {
   "cell_type": "code",
   "execution_count": 25,
   "id": "9f60a23b-660d-4c1a-9aea-a1d5f99a7183",
   "metadata": {},
   "outputs": [
    {
     "name": "stdout",
     "output_type": "stream",
     "text": [
      "Queue: 1 2 3 4 5 \n"
     ]
    }
   ],
   "source": [
    "cq.print_queue()"
   ]
  },
  {
   "cell_type": "code",
   "execution_count": 26,
   "id": "a2412bc1-e846-466a-b3b9-7f1609223739",
   "metadata": {},
   "outputs": [
    {
     "name": "stdout",
     "output_type": "stream",
     "text": [
      "Dequeued 1 from the queue.\n",
      "Dequeued 2 from the queue.\n"
     ]
    },
    {
     "data": {
      "text/plain": [
       "2"
      ]
     },
     "execution_count": 26,
     "metadata": {},
     "output_type": "execute_result"
    }
   ],
   "source": [
    "cq.dequeue()\n",
    "cq.dequeue()"
   ]
  },
  {
   "cell_type": "code",
   "execution_count": 27,
   "id": "ef1bb781-dccf-4e43-bd7f-9a40ba539a9e",
   "metadata": {},
   "outputs": [
    {
     "name": "stdout",
     "output_type": "stream",
     "text": [
      "Dequeued 3 from the queue.\n",
      "Dequeued 4 from the queue.\n"
     ]
    },
    {
     "data": {
      "text/plain": [
       "4"
      ]
     },
     "execution_count": 27,
     "metadata": {},
     "output_type": "execute_result"
    }
   ],
   "source": [
    "cq.dequeue()\n",
    "cq.dequeue()"
   ]
  },
  {
   "cell_type": "code",
   "execution_count": 28,
   "id": "8dc3c91b-ef21-48b0-936e-ac1cd43f26f5",
   "metadata": {},
   "outputs": [
    {
     "name": "stdout",
     "output_type": "stream",
     "text": [
      "Queue: 5 \n"
     ]
    }
   ],
   "source": [
    "cq.print_queue()"
   ]
  },
  {
   "cell_type": "markdown",
   "id": "62a5d8e9-0ff1-443c-b483-f9a251397195",
   "metadata": {},
   "source": [
    "##### Few things to remember about stacks and queues:\n",
    "- ##### If you need a data structure that provides O(1) access of the first element inserted then use a queue. If you need O(1) access of the last element then use a stack.\n",
    "- ##### A queue is often associated with a Breadth First Search(BFS) while a stack is often utilised for Depth First Search(DFS). These are graph traversal algorithms and will be covered in the Graphs Notebook.\n",
    "- ##### Another type of queues called priority queue is an abstract base class that typically is built with a heap.\n",
    "- ##### Deciding between a priority queue/stack/queue depends on how many times the top element has to accessed. Because popping from the top of a priority queue takes some sorting O(log(k)) to maintain the heap. Whereas popping from a stack/queue is O(1) as no reordering is necessary if done from the proper end."
   ]
  }
 ],
 "metadata": {
  "kernelspec": {
   "display_name": "Python 3 (ipykernel)",
   "language": "python",
   "name": "python3"
  },
  "language_info": {
   "codemirror_mode": {
    "name": "ipython",
    "version": 3
   },
   "file_extension": ".py",
   "mimetype": "text/x-python",
   "name": "python",
   "nbconvert_exporter": "python",
   "pygments_lexer": "ipython3",
   "version": "3.10.9"
  }
 },
 "nbformat": 4,
 "nbformat_minor": 5
}
