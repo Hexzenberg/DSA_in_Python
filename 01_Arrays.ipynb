{
 "cells": [
  {
   "cell_type": "markdown",
   "id": "a2550be7-7931-4bc7-beb1-0b60e9d17261",
   "metadata": {},
   "source": [
    "# <center>Arrays 101</center>"
   ]
  },
  {
   "cell_type": "markdown",
   "id": "7c192a79-3482-4f11-a07f-8342b958f43f",
   "metadata": {},
   "source": [
    "###### Thank you for learning from my repository however, here's a fair warning that **I AM _ASSUMING_ THAT YOU KNOW THE BASICS OF PYTHON** i.e. you know how to use control flow, loops, functions and classes etc."
   ]
  },
  {
   "cell_type": "markdown",
   "id": "59d95661-4288-403d-8212-eea4d6777faa",
   "metadata": {},
   "source": [
    "- This notebook is the first notebook of my DSA in Python repository. \n",
    "- This notebook has the basics of the arrays data structure in it. I consider this as the starting point for anyone who wants to dive deep into Python.\n",
    "- The Tuple, set and Dictionary(the Hash Map of Python) data structures have also been used in this notebook."
   ]
  },
  {
   "cell_type": "markdown",
   "id": "5e73a2f6-ba93-4550-9ac9-2721ea0fe98b",
   "metadata": {},
   "source": [
    "##### Now that the introductions are over I would like to explain what arrays actually are; arrays are nothing but an ensembly of variables that are contiguous in memory.\n",
    "##### Woah! What was that? Well it is obligatory to use some copmuter science jargons when trying to teach(look cool) something. Simply put the array(or rather the variable [name] that is used as the array, for exapmle 'arr' as seen in the code below) simply points to the continuous stream of memory of the quantity which is enough to store the number of elements that we want to store inside the array.\n",
    "##### For example if you glance over the code I have written below the array named 'arr' stores a total number of 3 elements i.e. [1, 2, 3], so what I am saying is that the name 'arr' actually is pointing to the accumulated space that the 3 elements are taking inside the memory."
   ]
  },
  {
   "cell_type": "markdown",
   "id": "9cc48494-82ff-4be8-9739-289e84d132c9",
   "metadata": {},
   "source": [
    "###### Declaring an array (list) in python and traversing it."
   ]
  },
  {
   "cell_type": "code",
   "execution_count": 1,
   "id": "2a21816c-6f0a-434d-9b91-5197977cac39",
   "metadata": {},
   "outputs": [
    {
     "data": {
      "text/plain": [
       "1"
      ]
     },
     "execution_count": 1,
     "metadata": {},
     "output_type": "execute_result"
    }
   ],
   "source": [
    "# Unlike C/C++/Java you do not have to specify the data type of any variable in Python.\n",
    "arr = [1, 2, 3]\n",
    "arr[0]"
   ]
  },
  {
   "cell_type": "markdown",
   "id": "6fef60d0-74b1-4b1e-a65c-0b51567dca30",
   "metadata": {},
   "source": [
    "##### I'll explain what ***arr[0]*** actually means but before that understand the indexing which is nothing but the numbering of position of the elements present inside the array.\n",
    "> In programming the indexing actually starts from *0* rather than *1* and hence the first element is actually present at the '0th' position.\n",
    "##### We access the array elements by using the name of the array and then specify the position of the element that we want. For example: arr[i] points to the element present inside the array **arr** at the _ith_ position. \n",
    "###### Traversing the array using loops."
   ]
  },
  {
   "cell_type": "code",
   "execution_count": 2,
   "id": "44b9bf22-e845-469e-b25a-d13b4a87aa6d",
   "metadata": {},
   "outputs": [
    {
     "name": "stdout",
     "output_type": "stream",
     "text": [
      "1 2 3 "
     ]
    }
   ],
   "source": [
    "# \n",
    "for i in arr:\n",
    "    print(f'{i}', end=' ')"
   ]
  },
  {
   "cell_type": "code",
   "execution_count": 3,
   "id": "d3e239fd-e35f-4847-9607-6906d1405b4a",
   "metadata": {},
   "outputs": [
    {
     "name": "stdout",
     "output_type": "stream",
     "text": [
      "1 2 3 "
     ]
    }
   ],
   "source": [
    "# Using While loop.\n",
    "i = 0\n",
    "\n",
    "while i < len(arr):\n",
    "    print(arr[i], end=' ')\n",
    "    i += 1"
   ]
  },
  {
   "cell_type": "markdown",
   "id": "4c3d9fb6-5e48-4fb0-a1fc-8d6628e385ed",
   "metadata": {},
   "source": [
    "##### The basic idea while traversing through an array (or any linear data structure for that matter) is to keep moving till the end of the said data structure is reached. \n",
    "##### Here the end of the array is represented by _len(arr)_ which is a builtin function."
   ]
  },
  {
   "cell_type": "markdown",
   "id": "601c70ce-6b8b-4416-87d4-c3f6e0f32b1b",
   "metadata": {},
   "source": [
    "###### Implementing a Dynamic array using OOPs fundamentals."
   ]
  },
  {
   "cell_type": "code",
   "execution_count": 4,
   "id": "22a18894-c4ee-49cd-8daf-1453ca176d33",
   "metadata": {},
   "outputs": [],
   "source": [
    "import ctypes\n",
    "\n",
    "class DynamicArray(object):\n",
    "    def __init__(self): # Constructor initialises the attributes for an object to the default values\n",
    "        self.n = 0\n",
    "        self.capacity = 1\n",
    "        self.A = self.make_array(self.capacity)\n",
    "    \n",
    "    def make_array(self,new_cap):\n",
    "        return (new_cap * ctypes.py_object)()\n",
    "        \n",
    "    def __len__(self):\n",
    "        return self.n\n",
    "\n",
    "    def __getitem__(self,k):\n",
    "        if not 0 <= k < self.n:\n",
    "            return IndexError('Index is out of bounds!') \n",
    "        \n",
    "        return self.A[k] \n",
    "\n",
    "    def append(self, ele):\n",
    "        if self.n == self.capacity:\n",
    "            self._resize(2 * self.capacity) # Increasing the size if capacity limit has been reached\n",
    "\n",
    "        self.A[self.n] = ele\n",
    "        self.n += 1\n",
    "\n",
    "    def _resize(self, new_cap):\n",
    "        new_array = self.make_array(new_cap)  \n",
    "        for i in range(self.n):  # Copy elements to the new array\n",
    "            new_array[i] = self.A[i]\n",
    "        self.A = new_array  # Update the array reference\n",
    "        self.capacity = new_cap # Update the capacity\n",
    "\n",
    "    def del_element(self):\n",
    "        if self.n > 0:\n",
    "            self.n -= 1  # Decrease the number of elements\n",
    "            \n",
    "            if self.n < self.capacity // 4:  # Shrink the capacity if necessary\n",
    "                self._resize(self.capacity // 2)\n",
    "\n",
    "    def del_element_at_index(self, index):\n",
    "        if not 0 <= index < self.n:\n",
    "            raise IndexError(\"Index out of the array bounds!\")\n",
    "            \n",
    "        for i in range(index, self.n - 1):  # Shift elements to the left\n",
    "            self.A[i] = self.A[i + 1]\n",
    "            \n",
    "        self.A[self.n - 1] = None  # Clear the last element\n",
    "        self.n -= 1  # Decrease the number of elements\n",
    "\n",
    "    def print_array(self):\n",
    "        for i in range(self.n):\n",
    "            print(self.A[i], end=' ')\n",
    "            \n",
    "        print()"
   ]
  },
  {
   "cell_type": "code",
   "execution_count": 5,
   "id": "a2f7c844-a237-426b-af9c-143a45b62b51",
   "metadata": {},
   "outputs": [
    {
     "data": {
      "text/plain": [
       "1"
      ]
     },
     "execution_count": 5,
     "metadata": {},
     "output_type": "execute_result"
    }
   ],
   "source": [
    "arr = DynamicArray()\n",
    "arr.append(1)\n",
    "len(arr)"
   ]
  },
  {
   "cell_type": "code",
   "execution_count": 6,
   "id": "7598847b-50a4-4c15-9a16-6efa2dfedc1b",
   "metadata": {},
   "outputs": [],
   "source": [
    "arr.append(2)\n",
    "arr.append(3)\n",
    "arr.append(4)"
   ]
  },
  {
   "cell_type": "code",
   "execution_count": 7,
   "id": "a5701537-f1d4-425a-9c0b-e5ffc3f23f4b",
   "metadata": {},
   "outputs": [],
   "source": [
    "arr.del_element_at_index(2)"
   ]
  },
  {
   "cell_type": "code",
   "execution_count": 8,
   "id": "f4b8411a-f3f1-46cc-a92c-e9d527e80a05",
   "metadata": {},
   "outputs": [
    {
     "data": {
      "text/plain": [
       "3"
      ]
     },
     "execution_count": 8,
     "metadata": {},
     "output_type": "execute_result"
    }
   ],
   "source": [
    "len(arr)"
   ]
  },
  {
   "cell_type": "code",
   "execution_count": 9,
   "id": "7f0cad68-7fdf-4475-9c16-7fcb9574d260",
   "metadata": {},
   "outputs": [
    {
     "name": "stdout",
     "output_type": "stream",
     "text": [
      "1 2 4 \n"
     ]
    }
   ],
   "source": [
    "arr.print_array()"
   ]
  },
  {
   "cell_type": "markdown",
   "id": "bcac2847-6f4f-418b-9ba0-5517aa9e6fae",
   "metadata": {},
   "source": [
    "###### From the above sequence of code I hope it is clear how to use arrays or as we call it in Python: lists, whether default or dynamic.\n",
    "###### Next step is the simple searching algorithm to find any element inside an array."
   ]
  },
  {
   "cell_type": "code",
   "execution_count": 10,
   "id": "55cefd14-7078-4899-9ecd-901a4af390ea",
   "metadata": {},
   "outputs": [],
   "source": [
    "def search_array(arr, element):\n",
    "    for i in range(len(arr)):\n",
    "        if arr[i] == element:\n",
    "            return i # Element found at the ith position\n",
    "\n",
    "    return -1 # Element not present"
   ]
  },
  {
   "cell_type": "code",
   "execution_count": 11,
   "id": "979aac23-d728-405b-a00f-7b8ccf931d7a",
   "metadata": {},
   "outputs": [
    {
     "name": "stdout",
     "output_type": "stream",
     "text": [
      "The position of 4 inside the array arr is 2 which in human eyes is actually the 3th position\n"
     ]
    }
   ],
   "source": [
    "position = search_array(arr, 4)\n",
    "\n",
    "print(f'The position of 4 inside the array arr is {position} which in human eyes is actually the {position + 1}th position')"
   ]
  },
  {
   "cell_type": "markdown",
   "id": "6b5f0629-3615-46e9-991d-c55526d2a408",
   "metadata": {},
   "source": [
    " # <center>Tuples"
   ]
  },
  {
   "cell_type": "markdown",
   "id": "195303fe-c511-4573-b53e-bc0d527517b7",
   "metadata": {},
   "source": [
    "##### Both Tuples and Lists(Arrays) in Python can store elements of multiple data type (even sets and dictionaries do for that matter but we'll see that later) and allow duplicates, but tuples is unmutable in contrast to lists.\n",
    "##### Yep, that was the jargon part now that we're over with that let me explain what the difference between lists and tuples is; you **cannot** change (or manipulate) a tuple once tha values or elements have been set in it."
   ]
  },
  {
   "cell_type": "markdown",
   "id": "1a93ddc5-8577-4e08-bb3f-70d98cba4e75",
   "metadata": {},
   "source": [
    "###### Declaring a tuple and traversing it."
   ]
  },
  {
   "cell_type": "code",
   "execution_count": 12,
   "id": "dde123b3-2e13-4fc4-9698-0865f23f62cb",
   "metadata": {},
   "outputs": [
    {
     "data": {
      "text/plain": [
       "1"
      ]
     },
     "execution_count": 12,
     "metadata": {},
     "output_type": "execute_result"
    }
   ],
   "source": [
    "tple = (\"Hello\", \"World\", 1) \n",
    "tple[2]"
   ]
  },
  {
   "cell_type": "markdown",
   "id": "4064daf6-0c92-42ed-a082-002aeea24f41",
   "metadata": {},
   "source": [
    "##### Notice in the above code that when a tuple is declared we use round brackets '()' instead of the '[]' brackets that we use while declaring lists.\n",
    "##### While declaration might change the overall properties are rather same in tuples and lists except for of course aforementioned difference that once a tuple is set it cannot be changed. Which means that we can search and traverse the tuple same as we did for the lists but we cannot perform sorting on it.\n",
    "\n",
    "###### Nevertheless I will show the traversal incase of tuples."
   ]
  },
  {
   "cell_type": "code",
   "execution_count": 13,
   "id": "0cc236a2-4deb-4362-83c5-7552eac49888",
   "metadata": {},
   "outputs": [
    {
     "name": "stdout",
     "output_type": "stream",
     "text": [
      "Hello World 1 "
     ]
    }
   ],
   "source": [
    "for i in tple:\n",
    "    print(i, end=' ')"
   ]
  },
  {
   "cell_type": "markdown",
   "id": "805073ae-276a-4909-a9ac-20ecca704e2d",
   "metadata": {},
   "source": [
    "# <center>sets"
   ]
  },
  {
   "cell_type": "markdown",
   "id": "575b6cd6-e6b7-4ee8-8f1c-ee42a3c8c2f5",
   "metadata": {},
   "source": [
    "##### Sets like tuples (and unlike lists) are also unchangeable and unlike lists and tuples they are unordered and also they do not allow any duplicates."
   ]
  },
  {
   "cell_type": "markdown",
   "id": "7c2c40fb-74fc-4072-ba1d-c9b38fd60f81",
   "metadata": {},
   "source": [
    "###### Declaring a set and traversing it."
   ]
  },
  {
   "cell_type": "code",
   "execution_count": 14,
   "id": "29598bdb-6a17-4805-b56f-114b8d6a42d7",
   "metadata": {},
   "outputs": [],
   "source": [
    "my_set = {1, 2, 3, \"banana\"}"
   ]
  },
  {
   "cell_type": "markdown",
   "id": "2c34cba0-af7c-4aaf-9bc0-d62507990c9d",
   "metadata": {},
   "source": [
    "###### Traversal (and searching) are similar for sets too!"
   ]
  },
  {
   "cell_type": "code",
   "execution_count": 15,
   "id": "6391291c-c209-48a5-9797-0336cfad2752",
   "metadata": {},
   "outputs": [
    {
     "name": "stdout",
     "output_type": "stream",
     "text": [
      "1 2 3 banana "
     ]
    }
   ],
   "source": [
    "for i in my_set:\n",
    "    print(i, end=' ')"
   ]
  },
  {
   "cell_type": "markdown",
   "id": "b76d3d0d-f403-415d-a2f9-3528c6df33e0",
   "metadata": {},
   "source": [
    "##### As already mentioned that sets do not allow repetitions even if your set looks like [True, 1] it will throw an error because they treat True and 1 as the same (same for false and 0) and if these are present inside of a set the element that comes after the other is ignored.\n",
    "\n",
    "> print({True, 1}) will only print True.\n",
    "\n",
    "###### See the code below."
   ]
  },
  {
   "cell_type": "code",
   "execution_count": 16,
   "id": "df7c0345-5b7c-4b27-8e06-b29e1e111607",
   "metadata": {},
   "outputs": [
    {
     "name": "stdout",
     "output_type": "stream",
     "text": [
      "{True}\n"
     ]
    }
   ],
   "source": [
    "print({True, 1})"
   ]
  },
  {
   "cell_type": "markdown",
   "id": "61810eb6-9d11-419b-89e2-f7674f6bc026",
   "metadata": {},
   "source": [
    "##### Since curly braces '{}' have been used inside the print function the structure is treated as a set."
   ]
  },
  {
   "cell_type": "markdown",
   "id": "af1b942b-0d9f-4603-a5f3-e83b7f09e8fa",
   "metadata": {},
   "source": [
    "# <center> Dictionary"
   ]
  },
  {
   "cell_type": "markdown",
   "id": "84814284-0cd8-4e12-8b2c-cfd86fcf064f",
   "metadata": {},
   "source": [
    "##### Dictionaries are mutable (changeable) like lists, ordered like tuples and lists and do not allow repetitions like sets.\n",
    "###### Declaration and traversal of dictionaries."
   ]
  },
  {
   "cell_type": "code",
   "execution_count": 17,
   "id": "241b053b-c7e7-4db4-979e-50907f24f0c6",
   "metadata": {},
   "outputs": [],
   "source": [
    "my_dict = {\n",
    "    \"key\" : \"value\",\n",
    "    \"hash\" : \"map\"\n",
    "}"
   ]
  },
  {
   "cell_type": "markdown",
   "id": "fd4431fe-3967-42ef-844b-40b8193d6d7c",
   "metadata": {},
   "source": [
    "##### Searching and traversal can be a bit different for dictionaries."
   ]
  },
  {
   "cell_type": "markdown",
   "id": "6ba56aa9-5f3f-4532-9eec-0e9d56d4e6bd",
   "metadata": {},
   "source": [
    "###### Using for loop:"
   ]
  },
  {
   "cell_type": "code",
   "execution_count": 18,
   "id": "c944501b-2d54-4eb1-9f96-7e9b7dc41964",
   "metadata": {},
   "outputs": [
    {
     "name": "stdout",
     "output_type": "stream",
     "text": [
      "key value\n",
      "hash map\n"
     ]
    }
   ],
   "source": [
    "for key in my_dict:\n",
    "    print(key, my_dict[key])"
   ]
  },
  {
   "cell_type": "markdown",
   "id": "c84f3749-dfc9-468f-88c5-726432ca13df",
   "metadata": {},
   "source": [
    "###### Using .items() function:\n",
    "\n",
    "##### Often suggested as the best way to traverse a dictionary or rather the most versatile one."
   ]
  },
  {
   "cell_type": "code",
   "execution_count": 19,
   "id": "7dfb6713-5c61-4213-8b4f-0236cafd9c0e",
   "metadata": {},
   "outputs": [
    {
     "name": "stdout",
     "output_type": "stream",
     "text": [
      "key value\n",
      "hash map\n"
     ]
    }
   ],
   "source": [
    "for key, value in my_dict.items():\n",
    "    print(key, value)"
   ]
  },
  {
   "cell_type": "markdown",
   "id": "5a4dbe75-510d-4c18-a907-37a2173ed3ed",
   "metadata": {},
   "source": [
    "###### Traversing only the keys using .keys()"
   ]
  },
  {
   "cell_type": "code",
   "execution_count": 20,
   "id": "9344904d-ff10-419d-8ac5-ce6cffee47b3",
   "metadata": {},
   "outputs": [
    {
     "name": "stdout",
     "output_type": "stream",
     "text": [
      "key\n",
      "hash\n"
     ]
    }
   ],
   "source": [
    "for key in my_dict.keys():\n",
    "    print(key)"
   ]
  },
  {
   "cell_type": "markdown",
   "id": "2977cf51-54ea-47d0-986f-36a76336b1b0",
   "metadata": {},
   "source": [
    "###### Traversing only the values using .values()"
   ]
  },
  {
   "cell_type": "code",
   "execution_count": 21,
   "id": "d8c362a6-bdc6-4f56-9098-e9d08abb4d65",
   "metadata": {},
   "outputs": [
    {
     "name": "stdout",
     "output_type": "stream",
     "text": [
      "value\n",
      "map\n"
     ]
    }
   ],
   "source": [
    "for value in my_dict.values():\n",
    "    print(value)"
   ]
  },
  {
   "cell_type": "markdown",
   "id": "74d48575-d2f7-4fd6-ab14-2054132bff64",
   "metadata": {},
   "source": [
    "##### You can change the Key and Value pairs into separate lists like so:"
   ]
  },
  {
   "cell_type": "code",
   "execution_count": 22,
   "id": "753f4383-e012-4ac2-8a50-043894d7a014",
   "metadata": {},
   "outputs": [],
   "source": [
    "keys_list = [key for key in my_dict]"
   ]
  },
  {
   "cell_type": "code",
   "execution_count": 23,
   "id": "5c0909f3-8878-44d9-a261-2bde9ff439a5",
   "metadata": {},
   "outputs": [],
   "source": [
    "values_list = [value for value in my_dict.values()]"
   ]
  },
  {
   "cell_type": "markdown",
   "id": "940c08e3-64d7-4450-a44f-756cf0ae136c",
   "metadata": {},
   "source": [
    "###### Printing the Keys and Values lists:"
   ]
  },
  {
   "cell_type": "code",
   "execution_count": 24,
   "id": "1d5cbb2d-54d7-4607-8e6c-66a6f9ed583d",
   "metadata": {},
   "outputs": [
    {
     "name": "stdout",
     "output_type": "stream",
     "text": [
      "key\n",
      "hash\n",
      "value\n",
      "map\n"
     ]
    }
   ],
   "source": [
    "for i in keys_list:\n",
    "    print(i)\n",
    "\n",
    "for i in values_list:\n",
    "    print(i)"
   ]
  },
  {
   "cell_type": "markdown",
   "id": "6c1291f6-e3e7-4bfa-a740-e5789751ac31",
   "metadata": {},
   "source": [
    "###### Enumerating the dictionary for also getting the index of the key-value pairs:"
   ]
  },
  {
   "cell_type": "code",
   "execution_count": 25,
   "id": "546b82f5-525c-4f54-b204-9e5f36d5a80a",
   "metadata": {},
   "outputs": [
    {
     "name": "stdout",
     "output_type": "stream",
     "text": [
      "0 key value\n",
      "1 hash map\n"
     ]
    }
   ],
   "source": [
    "for index, key in enumerate(my_dict):\n",
    "    print(index, key, my_dict[key])"
   ]
  },
  {
   "cell_type": "markdown",
   "id": "c11d1696-7f7d-4dec-8627-df90bbabe732",
   "metadata": {},
   "source": [
    "###### Searching for some element to get its corresponding value from a dictionary:"
   ]
  },
  {
   "cell_type": "code",
   "execution_count": 26,
   "id": "903d7ff5-ea0d-4cc4-bf50-32915111128d",
   "metadata": {},
   "outputs": [],
   "source": [
    "def search_dict(my_dict, element):\n",
    "    for key, value in my_dict.items():\n",
    "        if key == element:\n",
    "            return value\n",
    "\n",
    "    return -1"
   ]
  },
  {
   "cell_type": "code",
   "execution_count": 27,
   "id": "74df6bd0-0504-469c-a2de-6333b7745a6e",
   "metadata": {},
   "outputs": [
    {
     "name": "stdout",
     "output_type": "stream",
     "text": [
      "The value of the 'key' is value\n"
     ]
    }
   ],
   "source": [
    "print(f'The value of the \\'key\\' is {search_dict(my_dict, \"key\")}')"
   ]
  },
  {
   "cell_type": "markdown",
   "id": "551ba275-f897-4c27-9fcc-4cfb95833abf",
   "metadata": {},
   "source": [
    "##### **Sorting** of Arrays (and Dictionaries) will be implemented in great detail inside the sorting Jupyter Notebook of the repository, since it is a very important and vast topic."
   ]
  }
 ],
 "metadata": {
  "kernelspec": {
   "display_name": "Python 3 (ipykernel)",
   "language": "python",
   "name": "python3"
  },
  "language_info": {
   "codemirror_mode": {
    "name": "ipython",
    "version": 3
   },
   "file_extension": ".py",
   "mimetype": "text/x-python",
   "name": "python",
   "nbconvert_exporter": "python",
   "pygments_lexer": "ipython3",
   "version": "3.10.9"
  }
 },
 "nbformat": 4,
 "nbformat_minor": 5
}
