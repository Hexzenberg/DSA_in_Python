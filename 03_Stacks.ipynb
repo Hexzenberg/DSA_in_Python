{
 "cells": [
  {
   "cell_type": "markdown",
   "id": "5b6a5830-312d-44f3-9347-e61e6cae1553",
   "metadata": {},
   "source": [
    "# <center> Stacks"
   ]
  },
  {
   "cell_type": "markdown",
   "id": "f05034be-c225-4a8f-ba54-00d706ff2439",
   "metadata": {},
   "source": [
    "##### - This is the third notebook of the DSA repository and will cover the concepts and tips for stack data structure.\n",
    "##### Stack, like arrays and linked lists, is also a type linear data structure except, wait for it, it follows the LIFO data processing method to process data.\n",
    "##### Again with the mumbo-jumbo! Hey, it's not me, complain to the people who named stuff like this, and to be honest this isn't even the worst one. \n",
    "##### Now what on Earth is LIFO? Well, it actually is an acronym and it stands for:\n",
    "> Last In First Out"
   ]
  },
  {
   "cell_type": "markdown",
   "id": "f0cfef0d-c0e1-4989-acc6-cb141aa7c7b0",
   "metadata": {},
   "source": [
    "##### This simple means that in stack data structure the last element that has been pushed or added into it will be popped or removed from it at first.\n",
    "##### What it means is that stack is only **open from one end**; Take a stack [1, 2, 3, 4], now there is a _top_ 'pointer' (sorry C/C++ folks but I have to), which means that there is a variable named as top (name the variable however you like it's not a concrete rule or anything but there is a reason why it is named as 'top') which _points_ to that **one open end** of the stack. From where the data enters or exits the stack. \n",
    "##### So in the above stack [1, 2, 3, 4] the top points to the location of 4, now you can either delete 4 or add another element to the stack after 4."
   ]
  },
  {
   "cell_type": "markdown",
   "id": "943f014d-784c-4c22-b5ae-382ed539696b",
   "metadata": {},
   "source": [
    "> Take you want to add 5 at the end of the stack:\n",
    "> \n",
    ">> [1, 2, 3, 4] --------> [1, 2, 3, 4, 5]\n",
    "> \n",
    ">  The top pointer is now pointing towards 5.\n",
    ">  \n",
    "> If you want to delete the element then the stack becomes:\n",
    "> \n",
    ">> [1, 2, 3, 4, 5] --------> [1, 2, 3, 4]\n",
    ">\n",
    "> The top pointer is now pointing towards 4 again."
   ]
  },
  {
   "cell_type": "markdown",
   "id": "0525acf8-691f-4a52-9fa9-5744fbde0f26",
   "metadata": {},
   "source": [
    "###### Implmentation:"
   ]
  },
  {
   "cell_type": "code",
   "execution_count": 1,
   "id": "c18a08e5-7db4-4486-91e5-13a8f0a4d043",
   "metadata": {},
   "outputs": [],
   "source": [
    "class Stack:\n",
    "    def __init__(self):\n",
    "        self.items = [] # Using a Python list as a stack\n",
    "\n",
    "    def is_empty(self):\n",
    "        return self.items == [] # Returns true if the list is empty\n",
    "    \n",
    "    def push(self, item):\n",
    "        self.items.append(item) # Adds a new element at the top of the stack\n",
    "\n",
    "    def pop(self):\n",
    "        return self.items.pop() # Removes an element from the top of the stack\n",
    "\n",
    "    def peek(self):\n",
    "        return self.items[len(self.items) - 1] # Returns the top element of the stack\n",
    "\n",
    "    def size(self):\n",
    "        return len(self.items) \n",
    "\n",
    "    def print_stack(self):\n",
    "        copy = self.items[:]  # This creates a shallow copy of the list\n",
    "    \n",
    "        while len(copy) > 0:\n",
    "            print(copy[len(copy) - 1], end=' ')  # Prints the top element of the stack\n",
    "            copy.pop()  # Removes the top element of the copied stack"
   ]
  },
  {
   "cell_type": "code",
   "execution_count": 2,
   "id": "2e501da9-2987-4230-a4a6-1722f92fe1b1",
   "metadata": {},
   "outputs": [
    {
     "name": "stdout",
     "output_type": "stream",
     "text": [
      "1 "
     ]
    }
   ],
   "source": [
    "stk = Stack()\n",
    "stk.push(1)\n",
    "stk.print_stack()"
   ]
  },
  {
   "cell_type": "code",
   "execution_count": 3,
   "id": "b8851e0f-fde8-4428-81b2-63177e5f2066",
   "metadata": {},
   "outputs": [
    {
     "name": "stdout",
     "output_type": "stream",
     "text": [
      "4 3 2 1 "
     ]
    }
   ],
   "source": [
    "stk.push(2)\n",
    "stk.push(3)\n",
    "stk.push(4)\n",
    "stk.print_stack()"
   ]
  },
  {
   "cell_type": "code",
   "execution_count": 4,
   "id": "f081bd58-ccd6-4566-be16-7b8d460d152a",
   "metadata": {},
   "outputs": [
    {
     "name": "stdout",
     "output_type": "stream",
     "text": [
      "3 2 1 "
     ]
    }
   ],
   "source": [
    "stk.pop()\n",
    "stk.print_stack()"
   ]
  },
  {
   "cell_type": "code",
   "execution_count": 5,
   "id": "c4a3c922-a468-4e0f-9e48-25a12e591770",
   "metadata": {},
   "outputs": [
    {
     "data": {
      "text/plain": [
       "3"
      ]
     },
     "execution_count": 5,
     "metadata": {},
     "output_type": "execute_result"
    }
   ],
   "source": [
    "stk.peek()"
   ]
  },
  {
   "cell_type": "code",
   "execution_count": 6,
   "id": "defa1e9f-f5df-4b2e-9268-651b2bb591fe",
   "metadata": {},
   "outputs": [
    {
     "data": {
      "text/plain": [
       "False"
      ]
     },
     "execution_count": 6,
     "metadata": {},
     "output_type": "execute_result"
    }
   ],
   "source": [
    "stk.is_empty()"
   ]
  },
  {
   "cell_type": "markdown",
   "id": "7b127d24-a09f-41b1-8066-0ffcd8019a18",
   "metadata": {},
   "source": [
    "###### The stack functionalities have been implemented and invoked in the above code.\n",
    "##### Notice that the _top_ pointer has not been explicitly implemented (which is something you have to do in case of C/C++) and instead the builtin Python functions that come with lists have been used.\n",
    "##### These functions have the properties we need for stacks:\n",
    "> pop() removes the elements from the end of the list (which essentially is the top of the stack), similarly append() adds the elements at the end of the list."
   ]
  },
  {
   "cell_type": "markdown",
   "id": "bef3ef04-0dd6-4a46-96eb-b2b1ae9136d6",
   "metadata": {},
   "source": [
    "##### Stack is mostly used in problems like nearest greatest/smallest to left/right, rain water trapping and parenthesis matching.\n",
    "##### The concept used in the above problems might be slightly tweaked to solve almost every other stack problem.\n",
    "#### How to identify a stack problem?\n",
    "- An array will be present in the question description, which implies either heap or stack problems sometimes, but, the definitive property of the question that points out that the problem has to be solved using stack is:\n",
    "> Brute force will be O(n<sup>2</sup>) and the ***inner loop will be dependent on the outer loop***:\n",
    "> \n",
    ">> for i in range(n):\n",
    ">>> for j in range(0, i):\n",
    ">\n",
    "> In the above code inner (j) loop is dependent on the outer (i) loop.\n",
    "##### The above features point out that the described problem has to be solved using the stack data structure."
   ]
  }
 ],
 "metadata": {
  "kernelspec": {
   "display_name": "Python 3 (ipykernel)",
   "language": "python",
   "name": "python3"
  },
  "language_info": {
   "codemirror_mode": {
    "name": "ipython",
    "version": 3
   },
   "file_extension": ".py",
   "mimetype": "text/x-python",
   "name": "python",
   "nbconvert_exporter": "python",
   "pygments_lexer": "ipython3",
   "version": "3.10.9"
  }
 },
 "nbformat": 4,
 "nbformat_minor": 5
}
