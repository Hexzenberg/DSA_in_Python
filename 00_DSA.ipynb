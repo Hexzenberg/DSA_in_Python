{
 "cells": [
  {
   "cell_type": "markdown",
   "id": "ddc0ea35-0004-42ef-926d-ee51ad465a09",
   "metadata": {},
   "source": [
    "# DSA in Python\n",
    "\n",
    "## Please excuse any unprofessional writing shown in the complete repository. I did not create this as a course for others but as a tool to help me revise Data Structures and Algorithms basics.\n",
    "## With that being said I will give the formal warning that this must not be used by a complete novice who does not know the basics of any programming language. \n",
    "> ### I will not stretch out basic definitions and try to keep everything short, informative and concise."
   ]
  },
  {
   "cell_type": "markdown",
   "id": "ee7bbe3a-2d54-4443-8557-ff2e623af897",
   "metadata": {},
   "source": [
    "## I hope you can realise how easy DSA actually is when you have correctly learned the basic concepts and how this is just like any other subject that you have ever encountered in your academia.\n",
    "## Finally as mentioned before the sole purpose of this repository is to prepare for interviews, consider this repository as a starting point and then move on to solve the famous leetcode questions lists."
   ]
  },
  {
   "cell_type": "markdown",
   "id": "34113dbb-e09b-484a-9d92-615b8f2d778a",
   "metadata": {},
   "source": [
    "## Course Structure:\n",
    "> ### - Data structures like arrays, linked lists, stacks, queues, tree, heap and graphs will be covered.\n",
    "> ### - Famous algorithms like Djikstra's algorithm and Prim's algorithm will also be covered.\n",
    "> ### - Few tips and tricks as a bonus for some lessons."
   ]
  },
  {
   "cell_type": "markdown",
   "id": "84e5553f-b95c-4a06-a38d-6908be0f6f0c",
   "metadata": {},
   "source": [
    "# Some things you should know:\n",
    "- ## DSA is a basic problem solving tool which can help us reduce the time or space utilised by some algorithm.\n",
    "- ## What is expected in a tech interview is that we know which data structure can convert a O(Worst time complexity) to a O(Best time complexity)."
   ]
  }
 ],
 "metadata": {
  "kernelspec": {
   "display_name": "Python 3 (ipykernel)",
   "language": "python",
   "name": "python3"
  },
  "language_info": {
   "codemirror_mode": {
    "name": "ipython",
    "version": 3
   },
   "file_extension": ".py",
   "mimetype": "text/x-python",
   "name": "python",
   "nbconvert_exporter": "python",
   "pygments_lexer": "ipython3",
   "version": "3.10.9"
  }
 },
 "nbformat": 4,
 "nbformat_minor": 5
}
