{
 "cells": [
  {
   "cell_type": "markdown",
   "id": "1e73ce9e-4f14-42e3-9aee-bd18ab68c8ba",
   "metadata": {},
   "source": [
    "##### This is the 11th notebook of the DSA in python repositories.\n",
    "##### Grpahs are cyclic and acyclic and consists of nodes which are connected by edges.\n",
    "##### A problem involving interconnected entities with complex relationships that require efficient pathfinding or dynamic updates, maybe solved using a graph data structure.\n",
    "##### Implementation can be done by using two methods adjacency lists and matrices.\n",
    "###### Adjacency list implementation:"
   ]
  },
  {
   "cell_type": "code",
   "execution_count": 1,
   "id": "26bc3f05-9c1d-425f-9db3-ae95eba4595e",
   "metadata": {},
   "outputs": [],
   "source": [
    "class AdjNode:\n",
    "    def __init__(self):\n",
    "        self.vertex = val\n",
    "        self.next = None\n",
    "\n",
    "class Graph:\n",
    "    def __init__(self, vertices):\n",
    "        self.vertices = vertices\n",
    "        self.graph = [None] * self.V\n",
    "\n",
    "    def add_edge(self, src, dest):\n",
    "        node = AdjNode(dest)\n",
    "        node.next = self.graph[src]\n",
    "        self.graph[src] = node\n",
    "\n",
    "        node = AdjNode(src)\n",
    "        node.next = self.graph[dest]\n",
    "        self.graph[dest] = node"
   ]
  },
  {
   "cell_type": "markdown",
   "id": "bd35c2ad-0ffe-421b-9993-3ed1a0915692",
   "metadata": {},
   "source": [
    "##### Nodes are linked with the individual elements as the main list and all the nodes connected to the unique nodes like a separate linked list, kind of like:"
   ]
  },
  {
   "cell_type": "markdown",
   "id": "dd61dece-7930-4d50-802b-db593047167c",
   "metadata": {},
   "source": [
    "[1] -> [3] -> [4]\n",
    "\n",
    " |\n",
    "\n",
    "[2] -> [5]\n",
    "\n",
    " |\n",
    "\n",
    "[3] -> [4]"
   ]
  },
  {
   "cell_type": "markdown",
   "id": "a8ddc5f5-4271-4707-85fe-61c098489abc",
   "metadata": {},
   "source": [
    "###### Adjacency matrix:"
   ]
  },
  {
   "cell_type": "code",
   "execution_count": 2,
   "id": "0d3578dc-e6c4-4854-a412-9d41cda4b2e0",
   "metadata": {},
   "outputs": [],
   "source": [
    "class Graph:\n",
    "\n",
    "    def __init__(self, vertices, directed: bool):\n",
    "        self.V = vertices\n",
    "        self.e = 0\n",
    "        self.d = directed\n",
    "        self.graph = [[0 for i in range(vertices)] for j in range(vertices)]\n",
    "\n",
    "    def add_edge(self, ver1, ver2):\n",
    "        if self.d:\n",
    "            self.graph[ver1][ver2] = 1\n",
    "        else:\n",
    "            self.graph[ver1][ver2] = 1\n",
    "            self.graph[ver2][ver1] = 1"
   ]
  },
  {
   "cell_type": "markdown",
   "id": "df629db9-2112-4401-8529-ebaef90138c8",
   "metadata": {},
   "source": [
    "##### Adjacency matrix is the type of data representation in which the elements are aligned as rows and columns and then their intersecting values are manipulated if there is an edge present in between them, kind of like:\n",
    "\n",
    "|   | [1] | [2] | [3] |\n",
    "| - | --- | --- | --- |\n",
    "|[1]|  0  |  1  |  1  |\n",
    "|[2]|  1  |  0  |  1  | \n",
    "|[3]|  1  |  1  |  0  |"
   ]
  },
  {
   "cell_type": "markdown",
   "id": "d1cc6d0a-38db-42d2-b3cb-a2ae2d3bf6ef",
   "metadata": {},
   "source": [
    "##### An adjacency list is chosen when working with sparse graphs or when efficient neighbor iteration is needed. Whereas an adjacency matrix is opted when dealing with dense graphs or when rapid edge existence checks are critical."
   ]
  }
 ],
 "metadata": {
  "kernelspec": {
   "display_name": "Python 3 (ipykernel)",
   "language": "python",
   "name": "python3"
  },
  "language_info": {
   "codemirror_mode": {
    "name": "ipython",
    "version": 3
   },
   "file_extension": ".py",
   "mimetype": "text/x-python",
   "name": "python",
   "nbconvert_exporter": "python",
   "pygments_lexer": "ipython3",
   "version": "3.10.9"
  }
 },
 "nbformat": 4,
 "nbformat_minor": 5
}
